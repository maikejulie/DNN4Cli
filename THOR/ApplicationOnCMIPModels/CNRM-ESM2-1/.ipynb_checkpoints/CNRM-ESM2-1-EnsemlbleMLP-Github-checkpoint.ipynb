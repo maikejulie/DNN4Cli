{
 "cells": [
  {
   "cell_type": "code",
   "execution_count": 1,
   "metadata": {},
   "outputs": [],
   "source": [
    "import pandas as pd\n",
    "import numpy as np\n",
    "import matplotlib.pyplot as plt\n",
    "import xarray as xr\n",
    "import intake,yaml\n",
    "import intake_esm\n",
    "from scipy import special\n",
    "import keras\n",
    "from keras.models import Model\n",
    "from keras.layers import Dense, Input"
   ]
  },
  {
   "cell_type": "code",
   "execution_count": 2,
   "metadata": {},
   "outputs": [],
   "source": [
    "from cmip6_preprocessing.preprocessing import combined_preprocessing\n",
    "from cmip6_preprocessing.preprocessing import (correct_units,rename_cmip6)"
   ]
  },
  {
   "cell_type": "code",
   "execution_count": 3,
   "metadata": {},
   "outputs": [],
   "source": [
    "#%pip install git+https://github.com/jbusecke/cmip6_preprocessing.git"
   ]
  },
  {
   "cell_type": "code",
   "execution_count": 4,
   "metadata": {},
   "outputs": [],
   "source": [
    "def pp_enso(ds):\n",
    "    ds = ds.copy()   #the wrapper function makes a copy of the ds and works from this\n",
    "    ds = rename_cmip6(ds)\n",
    "    ds = fix_time(ds)\n",
    "    #ds = fix_units(ds)\n",
    "    #ds = correct_units(ds)\n",
    "    return ds"
   ]
  },
  {
   "cell_type": "code",
   "execution_count": 5,
   "metadata": {},
   "outputs": [],
   "source": [
    "#this function gets the latest version of our catalog\n",
    "def latest_version(cat):\n",
    "    \"\"\"\n",
    "    input\n",
    "    cat: esmdatastore\n",
    "    output\n",
    "    esmdatastore with latest DRS versions\n",
    "    \"\"\"\n",
    "    latest_cat = cat.df.sort_values(by=['version','path']).drop_duplicates(['temporal_subset','source_id','table_id',\n",
    "                                               'institution_id','variable_id','member_id',\n",
    "                                               'grid_label','experiment_id'],keep='last')\n",
    "    return latest_cat"
   ]
  },
  {
   "cell_type": "code",
   "execution_count": 7,
   "metadata": {},
   "outputs": [],
   "source": [
    "model_name = 'CNRM-CM6-1'"
   ]
  },
  {
   "cell_type": "code",
   "execution_count": 8,
   "metadata": {},
   "outputs": [
    {
     "name": "stdout",
     "output_type": "stream",
     "text": [
      "weight dir exists\n",
      "weight file exists\n"
     ]
    }
   ],
   "source": [
    "#define location of weights file and image output here\n",
    "#for other model, just change the name of the model\n",
    "import sys,os\n",
    "system_dir = \"/home/jovyan\"\n",
    "model_dir = f\"{system_dir}/DNN4Cli/THOR/ApplicationOnCMIPModels/{model_name}/\"\n",
    "wgtsdir = f\"{system_dir}/DNN4Cli/ensembleMLP\"#leave this unchanged \n",
    "imgdirHisto = f\"{system_dir}/DNN4Cli/THOR/ApplicationOnCMIPModels/{model_name}/png_historical_{model_name}\"\n",
    "imgdir1prct = f\"{system_dir}/DNN4Cli/THOR/ApplicationOnCMIPModels/{model_name}/png_1prctCO2_{model_name}\"\n",
    "imgdirabrupt4Co2 = f\"{system_dir}/DNN4Cli/THOR/ApplicationOnCMIPModels/{model_name}/png_abrupt4prctCO2_{model_name}\"\n",
    "if(os.path.exists(wgtsdir)):\n",
    "    print(\"weight dir exists\")\n",
    "else:\n",
    "    sys.exit(\"weights directory is invalid\")\n",
    "if(os.path.exists(wgtsdir+'/vanillamodel_0.h5')):\n",
    "    print(\"weight file exists\")\n",
    "else:\n",
    "    sys.exit(\"weights directory is invalid:\"+wgtsdir+'/vanillamodel_0.h5')   \n",
    "    \n",
    "if not os.path.exists(imgdirHisto):\n",
    "    os.makedirs(imgdirHisto)\n",
    "if not os.path.exists(imgdir1prct):\n",
    "    os.makedirs(imgdir1prct)\n",
    "if not os.path.exists(imgdirabrupt4Co2):\n",
    "    os.makedirs(imgdirabrupt4Co2)"
   ]
  },
  {
   "cell_type": "code",
   "execution_count": 9,
   "metadata": {},
   "outputs": [
    {
     "data": {
      "text/plain": [
       "'/home/jovyan/DNN4Cli/THOR/ApplicationOnCMIPModels/CNRM-CM6-1'"
      ]
     },
     "execution_count": 9,
     "metadata": {},
     "output_type": "execute_result"
    }
   ],
   "source": [
    "%pwd"
   ]
  },
  {
   "cell_type": "markdown",
   "metadata": {},
   "source": [
    "## A query for all data Needed to run all the variable and experiment under CESM2\n",
    "for the other models and scenarios, please change the variable \"source_id\""
   ]
  },
  {
   "cell_type": "code",
   "execution_count": 10,
   "metadata": {},
   "outputs": [],
   "source": [
    "#col_url = \"https://cmip6-nc.s3.us-east-2.amazonaws.com/esgf-world.json\" \n",
    "col_url = \"https://raw.githubusercontent.com/aradhakrishnanGFDL/gfdl-aws-analysis/master/esm-collection-spec-examples/esgf-world.json\"\n",
    "col = intake.open_esm_datastore(col_url)\n",
    "esmcol_data = col.esmcol_data"
   ]
  },
  {
   "cell_type": "code",
   "execution_count": 11,
   "metadata": {},
   "outputs": [],
   "source": [
    "query_Omon_tauuo = dict(experiment_id=['abrupt-4xCO2','1pctCO2','historical'],\n",
    "                 table_id=['Omon'],\n",
    "                 member_id=[\"r1i1p1f1\",\"r1i1p1f2\"],\n",
    "                 source_id = model_name,\n",
    "                 grid_label=['gn'],\n",
    "                 variable_id=[\"tauuo\"])\n",
    "query_Omon_tauvo = dict(experiment_id=['abrupt-4xCO2','1pctCO2','historical'],\n",
    "                 table_id=['Omon'],\n",
    "                 member_id=[\"r1i1p1f1\",\"r1i1p1f2\"],\n",
    "                 source_id= model_name,\n",
    "                 grid_label=['gn'],\n",
    "                 variable_id=[\"tauvo\"])\n",
    "query_Omon_zos = dict(experiment_id=['abrupt-4xCO2','1pctCO2','historical'],\n",
    "                 table_id=['Omon'],\n",
    "                 member_id=[\"r1i1p1f1\",\"r1i1p1f2\"],\n",
    "                 source_id= model_name,\n",
    "                 grid_label=['gn'],\n",
    "                 variable_id=[\"zos\"])\n",
    "query_Ofx = dict(experiment_id=['1pctCO2','abrupt-4xCO2','historical'],\n",
    "                 table_id=['Ofx'],\n",
    "                 member_id=[\"r1i1p1f1\",\"r1i1p1f2\"],\n",
    "                 source_id= model_name,\n",
    "                 grid_label=['gn'],\n",
    "                 variable_id =[\"deptho\"])"
   ]
  },
  {
   "cell_type": "markdown",
   "metadata": {},
   "source": [
    "## Retrieving and Saving Ofx as a an npz file"
   ]
  },
  {
   "cell_type": "code",
   "execution_count": 12,
   "metadata": {},
   "outputs": [],
   "source": [
    "cat_Ofx = col.search(**query_Ofx) \n",
    "cat_Ofx_lat = latest_version(cat_Ofx)"
   ]
  },
  {
   "cell_type": "code",
   "execution_count": 13,
   "metadata": {},
   "outputs": [
    {
     "data": {
      "text/html": [
       "<div>\n",
       "<style scoped>\n",
       "    .dataframe tbody tr th:only-of-type {\n",
       "        vertical-align: middle;\n",
       "    }\n",
       "\n",
       "    .dataframe tbody tr th {\n",
       "        vertical-align: top;\n",
       "    }\n",
       "\n",
       "    .dataframe thead th {\n",
       "        text-align: right;\n",
       "    }\n",
       "</style>\n",
       "<table border=\"1\" class=\"dataframe\">\n",
       "  <thead>\n",
       "    <tr style=\"text-align: right;\">\n",
       "      <th></th>\n",
       "      <th>project</th>\n",
       "      <th>institution_id</th>\n",
       "      <th>source_id</th>\n",
       "      <th>experiment_id</th>\n",
       "      <th>frequency</th>\n",
       "      <th>modeling_realm</th>\n",
       "      <th>table_id</th>\n",
       "      <th>member_id</th>\n",
       "      <th>grid_label</th>\n",
       "      <th>variable_id</th>\n",
       "      <th>temporal_subset</th>\n",
       "      <th>version</th>\n",
       "      <th>path</th>\n",
       "    </tr>\n",
       "  </thead>\n",
       "  <tbody>\n",
       "    <tr>\n",
       "      <th>0</th>\n",
       "      <td>CMIP6</td>\n",
       "      <td>CNRM-CERFACS</td>\n",
       "      <td>CNRM-CM6-1</td>\n",
       "      <td>1pctCO2</td>\n",
       "      <td>NaN</td>\n",
       "      <td>NaN</td>\n",
       "      <td>Ofx</td>\n",
       "      <td>r1i1p1f2</td>\n",
       "      <td>gn</td>\n",
       "      <td>deptho</td>\n",
       "      <td>NaN</td>\n",
       "      <td>v20180626</td>\n",
       "      <td>s3://esgf-world/CMIP6/CMIP/CNRM-CERFACS/CNRM-C...</td>\n",
       "    </tr>\n",
       "    <tr>\n",
       "      <th>1</th>\n",
       "      <td>CMIP6</td>\n",
       "      <td>CNRM-CERFACS</td>\n",
       "      <td>CNRM-CM6-1</td>\n",
       "      <td>abrupt-4xCO2</td>\n",
       "      <td>NaN</td>\n",
       "      <td>NaN</td>\n",
       "      <td>Ofx</td>\n",
       "      <td>r1i1p1f2</td>\n",
       "      <td>gn</td>\n",
       "      <td>deptho</td>\n",
       "      <td>NaN</td>\n",
       "      <td>v20180705</td>\n",
       "      <td>s3://esgf-world/CMIP6/CMIP/CNRM-CERFACS/CNRM-C...</td>\n",
       "    </tr>\n",
       "    <tr>\n",
       "      <th>2</th>\n",
       "      <td>CMIP6</td>\n",
       "      <td>CNRM-CERFACS</td>\n",
       "      <td>CNRM-CM6-1</td>\n",
       "      <td>historical</td>\n",
       "      <td>NaN</td>\n",
       "      <td>NaN</td>\n",
       "      <td>Ofx</td>\n",
       "      <td>r1i1p1f2</td>\n",
       "      <td>gn</td>\n",
       "      <td>deptho</td>\n",
       "      <td>NaN</td>\n",
       "      <td>v20180917</td>\n",
       "      <td>s3://esgf-world/CMIP6/CMIP/CNRM-CERFACS/CNRM-C...</td>\n",
       "    </tr>\n",
       "  </tbody>\n",
       "</table>\n",
       "</div>"
      ],
      "text/plain": [
       "  project institution_id   source_id experiment_id frequency modeling_realm  \\\n",
       "0   CMIP6   CNRM-CERFACS  CNRM-CM6-1       1pctCO2       NaN            NaN   \n",
       "1   CMIP6   CNRM-CERFACS  CNRM-CM6-1  abrupt-4xCO2       NaN            NaN   \n",
       "2   CMIP6   CNRM-CERFACS  CNRM-CM6-1    historical       NaN            NaN   \n",
       "\n",
       "  table_id member_id grid_label variable_id temporal_subset    version  \\\n",
       "0      Ofx  r1i1p1f2         gn      deptho             NaN  v20180626   \n",
       "1      Ofx  r1i1p1f2         gn      deptho             NaN  v20180705   \n",
       "2      Ofx  r1i1p1f2         gn      deptho             NaN  v20180917   \n",
       "\n",
       "                                                path  \n",
       "0  s3://esgf-world/CMIP6/CMIP/CNRM-CERFACS/CNRM-C...  \n",
       "1  s3://esgf-world/CMIP6/CMIP/CNRM-CERFACS/CNRM-C...  \n",
       "2  s3://esgf-world/CMIP6/CMIP/CNRM-CERFACS/CNRM-C...  "
      ]
     },
     "execution_count": 13,
     "metadata": {},
     "output_type": "execute_result"
    }
   ],
   "source": [
    "cat_Ofx_lat"
   ]
  },
  {
   "cell_type": "code",
   "execution_count": 14,
   "metadata": {},
   "outputs": [],
   "source": [
    "cat_Ofx_latest = intake.open_esm_datastore(cat_Ofx_lat,esmcol_data=esmcol_data)"
   ]
  },
  {
   "cell_type": "code",
   "execution_count": 15,
   "metadata": {},
   "outputs": [],
   "source": [
    "#cat_Ofx_latest"
   ]
  },
  {
   "cell_type": "code",
   "execution_count": 16,
   "metadata": {},
   "outputs": [
    {
     "name": "stdout",
     "output_type": "stream",
     "text": [
      "\n",
      "--> The keys in the returned dictionary of datasets are constructed as follows:\n",
      "\t'project.institution_id.source_id.experiment_id.table_id'\n"
     ]
    },
    {
     "data": {
      "text/html": [
       "\n",
       "    <div>\n",
       "        <style>\n",
       "            /* Turns off some styling */\n",
       "            progress {\n",
       "                /* gets rid of default border in Firefox and Opera. */\n",
       "                border: none;\n",
       "                /* Needs to be in here for Safari polyfill so background images work as expected. */\n",
       "                background-size: auto;\n",
       "            }\n",
       "            .progress-bar-interrupted, .progress-bar-interrupted::-webkit-progress-bar {\n",
       "                background: #F44336;\n",
       "            }\n",
       "        </style>\n",
       "      <progress value='3' class='' max='3' style='width:300px; height:20px; vertical-align: middle;'></progress>\n",
       "      100.00% [3/3 00:00<00:00]\n",
       "    </div>\n",
       "    "
      ],
      "text/plain": [
       "<IPython.core.display.HTML object>"
      ]
     },
     "metadata": {},
     "output_type": "display_data"
    }
   ],
   "source": [
    "set_dict_Ofx= cat_Ofx_latest.to_dataset_dict(storage_options={'anon':True})"
   ]
  },
  {
   "cell_type": "code",
   "execution_count": 17,
   "metadata": {},
   "outputs": [
    {
     "data": {
      "text/plain": [
       "dict_keys(['CMIP6.CNRM-CERFACS.CNRM-CM6-1.abrupt-4xCO2.Ofx', 'CMIP6.CNRM-CERFACS.CNRM-CM6-1.historical.Ofx', 'CMIP6.CNRM-CERFACS.CNRM-CM6-1.1pctCO2.Ofx'])"
      ]
     },
     "execution_count": 17,
     "metadata": {},
     "output_type": "execute_result"
    }
   ],
   "source": [
    "set_dict_Ofx.keys()"
   ]
  },
  {
   "cell_type": "code",
   "execution_count": 18,
   "metadata": {},
   "outputs": [
    {
     "data": {
      "text/plain": [
       "(1, 75, 294, 362)"
      ]
     },
     "execution_count": 18,
     "metadata": {},
     "output_type": "execute_result"
    }
   ],
   "source": [
    "#It's preffered to use the experiment with the latest version\n",
    "xr_Ofx = set_dict_Ofx[list(set_dict_Ofx.keys())[0]]\n",
    "xr_Ofx.deptho.shape"
   ]
  },
  {
   "cell_type": "code",
   "execution_count": 19,
   "metadata": {},
   "outputs": [
    {
     "data": {
      "text/html": [
       "<div><svg style=\"position: absolute; width: 0; height: 0; overflow: hidden\">\n",
       "<defs>\n",
       "<symbol id=\"icon-database\" viewBox=\"0 0 32 32\">\n",
       "<path d=\"M16 0c-8.837 0-16 2.239-16 5v4c0 2.761 7.163 5 16 5s16-2.239 16-5v-4c0-2.761-7.163-5-16-5z\"></path>\n",
       "<path d=\"M16 17c-8.837 0-16-2.239-16-5v6c0 2.761 7.163 5 16 5s16-2.239 16-5v-6c0 2.761-7.163 5-16 5z\"></path>\n",
       "<path d=\"M16 26c-8.837 0-16-2.239-16-5v6c0 2.761 7.163 5 16 5s16-2.239 16-5v-6c0 2.761-7.163 5-16 5z\"></path>\n",
       "</symbol>\n",
       "<symbol id=\"icon-file-text2\" viewBox=\"0 0 32 32\">\n",
       "<path d=\"M28.681 7.159c-0.694-0.947-1.662-2.053-2.724-3.116s-2.169-2.030-3.116-2.724c-1.612-1.182-2.393-1.319-2.841-1.319h-15.5c-1.378 0-2.5 1.121-2.5 2.5v27c0 1.378 1.122 2.5 2.5 2.5h23c1.378 0 2.5-1.122 2.5-2.5v-19.5c0-0.448-0.137-1.23-1.319-2.841zM24.543 5.457c0.959 0.959 1.712 1.825 2.268 2.543h-4.811v-4.811c0.718 0.556 1.584 1.309 2.543 2.268zM28 29.5c0 0.271-0.229 0.5-0.5 0.5h-23c-0.271 0-0.5-0.229-0.5-0.5v-27c0-0.271 0.229-0.5 0.5-0.5 0 0 15.499-0 15.5 0v7c0 0.552 0.448 1 1 1h7v19.5z\"></path>\n",
       "<path d=\"M23 26h-14c-0.552 0-1-0.448-1-1s0.448-1 1-1h14c0.552 0 1 0.448 1 1s-0.448 1-1 1z\"></path>\n",
       "<path d=\"M23 22h-14c-0.552 0-1-0.448-1-1s0.448-1 1-1h14c0.552 0 1 0.448 1 1s-0.448 1-1 1z\"></path>\n",
       "<path d=\"M23 18h-14c-0.552 0-1-0.448-1-1s0.448-1 1-1h14c0.552 0 1 0.448 1 1s-0.448 1-1 1z\"></path>\n",
       "</symbol>\n",
       "</defs>\n",
       "</svg>\n",
       "<style>/* CSS stylesheet for displaying xarray objects in jupyterlab.\n",
       " *\n",
       " */\n",
       "\n",
       ":root {\n",
       "  --xr-font-color0: var(--jp-content-font-color0, rgba(0, 0, 0, 1));\n",
       "  --xr-font-color2: var(--jp-content-font-color2, rgba(0, 0, 0, 0.54));\n",
       "  --xr-font-color3: var(--jp-content-font-color3, rgba(0, 0, 0, 0.38));\n",
       "  --xr-border-color: var(--jp-border-color2, #e0e0e0);\n",
       "  --xr-disabled-color: var(--jp-layout-color3, #bdbdbd);\n",
       "  --xr-background-color: var(--jp-layout-color0, white);\n",
       "  --xr-background-color-row-even: var(--jp-layout-color1, white);\n",
       "  --xr-background-color-row-odd: var(--jp-layout-color2, #eeeeee);\n",
       "}\n",
       "\n",
       "html[theme=dark],\n",
       "body.vscode-dark {\n",
       "  --xr-font-color0: rgba(255, 255, 255, 1);\n",
       "  --xr-font-color2: rgba(255, 255, 255, 0.54);\n",
       "  --xr-font-color3: rgba(255, 255, 255, 0.38);\n",
       "  --xr-border-color: #1F1F1F;\n",
       "  --xr-disabled-color: #515151;\n",
       "  --xr-background-color: #111111;\n",
       "  --xr-background-color-row-even: #111111;\n",
       "  --xr-background-color-row-odd: #313131;\n",
       "}\n",
       "\n",
       ".xr-wrap {\n",
       "  display: block;\n",
       "  min-width: 300px;\n",
       "  max-width: 700px;\n",
       "}\n",
       "\n",
       ".xr-text-repr-fallback {\n",
       "  /* fallback to plain text repr when CSS is not injected (untrusted notebook) */\n",
       "  display: none;\n",
       "}\n",
       "\n",
       ".xr-header {\n",
       "  padding-top: 6px;\n",
       "  padding-bottom: 6px;\n",
       "  margin-bottom: 4px;\n",
       "  border-bottom: solid 1px var(--xr-border-color);\n",
       "}\n",
       "\n",
       ".xr-header > div,\n",
       ".xr-header > ul {\n",
       "  display: inline;\n",
       "  margin-top: 0;\n",
       "  margin-bottom: 0;\n",
       "}\n",
       "\n",
       ".xr-obj-type,\n",
       ".xr-array-name {\n",
       "  margin-left: 2px;\n",
       "  margin-right: 10px;\n",
       "}\n",
       "\n",
       ".xr-obj-type {\n",
       "  color: var(--xr-font-color2);\n",
       "}\n",
       "\n",
       ".xr-sections {\n",
       "  padding-left: 0 !important;\n",
       "  display: grid;\n",
       "  grid-template-columns: 150px auto auto 1fr 20px 20px;\n",
       "}\n",
       "\n",
       ".xr-section-item {\n",
       "  display: contents;\n",
       "}\n",
       "\n",
       ".xr-section-item input {\n",
       "  display: none;\n",
       "}\n",
       "\n",
       ".xr-section-item input + label {\n",
       "  color: var(--xr-disabled-color);\n",
       "}\n",
       "\n",
       ".xr-section-item input:enabled + label {\n",
       "  cursor: pointer;\n",
       "  color: var(--xr-font-color2);\n",
       "}\n",
       "\n",
       ".xr-section-item input:enabled + label:hover {\n",
       "  color: var(--xr-font-color0);\n",
       "}\n",
       "\n",
       ".xr-section-summary {\n",
       "  grid-column: 1;\n",
       "  color: var(--xr-font-color2);\n",
       "  font-weight: 500;\n",
       "}\n",
       "\n",
       ".xr-section-summary > span {\n",
       "  display: inline-block;\n",
       "  padding-left: 0.5em;\n",
       "}\n",
       "\n",
       ".xr-section-summary-in:disabled + label {\n",
       "  color: var(--xr-font-color2);\n",
       "}\n",
       "\n",
       ".xr-section-summary-in + label:before {\n",
       "  display: inline-block;\n",
       "  content: '►';\n",
       "  font-size: 11px;\n",
       "  width: 15px;\n",
       "  text-align: center;\n",
       "}\n",
       "\n",
       ".xr-section-summary-in:disabled + label:before {\n",
       "  color: var(--xr-disabled-color);\n",
       "}\n",
       "\n",
       ".xr-section-summary-in:checked + label:before {\n",
       "  content: '▼';\n",
       "}\n",
       "\n",
       ".xr-section-summary-in:checked + label > span {\n",
       "  display: none;\n",
       "}\n",
       "\n",
       ".xr-section-summary,\n",
       ".xr-section-inline-details {\n",
       "  padding-top: 4px;\n",
       "  padding-bottom: 4px;\n",
       "}\n",
       "\n",
       ".xr-section-inline-details {\n",
       "  grid-column: 2 / -1;\n",
       "}\n",
       "\n",
       ".xr-section-details {\n",
       "  display: none;\n",
       "  grid-column: 1 / -1;\n",
       "  margin-bottom: 5px;\n",
       "}\n",
       "\n",
       ".xr-section-summary-in:checked ~ .xr-section-details {\n",
       "  display: contents;\n",
       "}\n",
       "\n",
       ".xr-array-wrap {\n",
       "  grid-column: 1 / -1;\n",
       "  display: grid;\n",
       "  grid-template-columns: 20px auto;\n",
       "}\n",
       "\n",
       ".xr-array-wrap > label {\n",
       "  grid-column: 1;\n",
       "  vertical-align: top;\n",
       "}\n",
       "\n",
       ".xr-preview {\n",
       "  color: var(--xr-font-color3);\n",
       "}\n",
       "\n",
       ".xr-array-preview,\n",
       ".xr-array-data {\n",
       "  padding: 0 5px !important;\n",
       "  grid-column: 2;\n",
       "}\n",
       "\n",
       ".xr-array-data,\n",
       ".xr-array-in:checked ~ .xr-array-preview {\n",
       "  display: none;\n",
       "}\n",
       "\n",
       ".xr-array-in:checked ~ .xr-array-data,\n",
       ".xr-array-preview {\n",
       "  display: inline-block;\n",
       "}\n",
       "\n",
       ".xr-dim-list {\n",
       "  display: inline-block !important;\n",
       "  list-style: none;\n",
       "  padding: 0 !important;\n",
       "  margin: 0;\n",
       "}\n",
       "\n",
       ".xr-dim-list li {\n",
       "  display: inline-block;\n",
       "  padding: 0;\n",
       "  margin: 0;\n",
       "}\n",
       "\n",
       ".xr-dim-list:before {\n",
       "  content: '(';\n",
       "}\n",
       "\n",
       ".xr-dim-list:after {\n",
       "  content: ')';\n",
       "}\n",
       "\n",
       ".xr-dim-list li:not(:last-child):after {\n",
       "  content: ',';\n",
       "  padding-right: 5px;\n",
       "}\n",
       "\n",
       ".xr-has-index {\n",
       "  font-weight: bold;\n",
       "}\n",
       "\n",
       ".xr-var-list,\n",
       ".xr-var-item {\n",
       "  display: contents;\n",
       "}\n",
       "\n",
       ".xr-var-item > div,\n",
       ".xr-var-item label,\n",
       ".xr-var-item > .xr-var-name span {\n",
       "  background-color: var(--xr-background-color-row-even);\n",
       "  margin-bottom: 0;\n",
       "}\n",
       "\n",
       ".xr-var-item > .xr-var-name:hover span {\n",
       "  padding-right: 5px;\n",
       "}\n",
       "\n",
       ".xr-var-list > li:nth-child(odd) > div,\n",
       ".xr-var-list > li:nth-child(odd) > label,\n",
       ".xr-var-list > li:nth-child(odd) > .xr-var-name span {\n",
       "  background-color: var(--xr-background-color-row-odd);\n",
       "}\n",
       "\n",
       ".xr-var-name {\n",
       "  grid-column: 1;\n",
       "}\n",
       "\n",
       ".xr-var-dims {\n",
       "  grid-column: 2;\n",
       "}\n",
       "\n",
       ".xr-var-dtype {\n",
       "  grid-column: 3;\n",
       "  text-align: right;\n",
       "  color: var(--xr-font-color2);\n",
       "}\n",
       "\n",
       ".xr-var-preview {\n",
       "  grid-column: 4;\n",
       "}\n",
       "\n",
       ".xr-var-name,\n",
       ".xr-var-dims,\n",
       ".xr-var-dtype,\n",
       ".xr-preview,\n",
       ".xr-attrs dt {\n",
       "  white-space: nowrap;\n",
       "  overflow: hidden;\n",
       "  text-overflow: ellipsis;\n",
       "  padding-right: 10px;\n",
       "}\n",
       "\n",
       ".xr-var-name:hover,\n",
       ".xr-var-dims:hover,\n",
       ".xr-var-dtype:hover,\n",
       ".xr-attrs dt:hover {\n",
       "  overflow: visible;\n",
       "  width: auto;\n",
       "  z-index: 1;\n",
       "}\n",
       "\n",
       ".xr-var-attrs,\n",
       ".xr-var-data {\n",
       "  display: none;\n",
       "  background-color: var(--xr-background-color) !important;\n",
       "  padding-bottom: 5px !important;\n",
       "}\n",
       "\n",
       ".xr-var-attrs-in:checked ~ .xr-var-attrs,\n",
       ".xr-var-data-in:checked ~ .xr-var-data {\n",
       "  display: block;\n",
       "}\n",
       "\n",
       ".xr-var-data > table {\n",
       "  float: right;\n",
       "}\n",
       "\n",
       ".xr-var-name span,\n",
       ".xr-var-data,\n",
       ".xr-attrs {\n",
       "  padding-left: 25px !important;\n",
       "}\n",
       "\n",
       ".xr-attrs,\n",
       ".xr-var-attrs,\n",
       ".xr-var-data {\n",
       "  grid-column: 1 / -1;\n",
       "}\n",
       "\n",
       "dl.xr-attrs {\n",
       "  padding: 0;\n",
       "  margin: 0;\n",
       "  display: grid;\n",
       "  grid-template-columns: 125px auto;\n",
       "}\n",
       "\n",
       ".xr-attrs dt,\n",
       ".xr-attrs dd {\n",
       "  padding: 0;\n",
       "  margin: 0;\n",
       "  float: left;\n",
       "  padding-right: 10px;\n",
       "  width: auto;\n",
       "}\n",
       "\n",
       ".xr-attrs dt {\n",
       "  font-weight: normal;\n",
       "  grid-column: 1;\n",
       "}\n",
       "\n",
       ".xr-attrs dt:hover span {\n",
       "  display: inline-block;\n",
       "  background: var(--xr-background-color);\n",
       "  padding-right: 10px;\n",
       "}\n",
       "\n",
       ".xr-attrs dd {\n",
       "  grid-column: 2;\n",
       "  white-space: pre-wrap;\n",
       "  word-break: break-all;\n",
       "}\n",
       "\n",
       ".xr-icon-database,\n",
       ".xr-icon-file-text2 {\n",
       "  display: inline-block;\n",
       "  vertical-align: middle;\n",
       "  width: 1em;\n",
       "  height: 1.5em !important;\n",
       "  stroke-width: 0;\n",
       "  stroke: currentColor;\n",
       "  fill: currentColor;\n",
       "}\n",
       "</style><pre class='xr-text-repr-fallback'>&lt;xarray.Dataset&gt;\n",
       "Dimensions:     (axis_nbounds: 2, lev: 75, member_id: 1, nvertex: 4, x: 362, y: 294)\n",
       "Coordinates:\n",
       "    lat         (y, x) float64 dask.array&lt;chunksize=(294, 362), meta=np.ndarray&gt;\n",
       "    lon         (y, x) float64 dask.array&lt;chunksize=(294, 362), meta=np.ndarray&gt;\n",
       "  * lev         (lev) float64 0.5058 1.556 2.668 ... 5.698e+03 5.902e+03\n",
       "  * member_id   (member_id) &lt;U8 &#x27;r1i1p1f2&#x27;\n",
       "Dimensions without coordinates: axis_nbounds, nvertex, x, y\n",
       "Data variables:\n",
       "    bounds_lon  (y, x, nvertex) float64 dask.array&lt;chunksize=(294, 362, 4), meta=np.ndarray&gt;\n",
       "    bounds_lat  (y, x, nvertex) float64 dask.array&lt;chunksize=(294, 362, 4), meta=np.ndarray&gt;\n",
       "    lev_bounds  (lev, axis_nbounds) float64 dask.array&lt;chunksize=(75, 2), meta=np.ndarray&gt;\n",
       "    deptho      (member_id, lev, y, x) float32 dask.array&lt;chunksize=(1, 75, 294, 362), meta=np.ndarray&gt;\n",
       "Attributes: (12/55)\n",
       "    name:                    /scratch/utmp/ftdir/voldoire/eclis/transfers/CNR...\n",
       "    Conventions:             CF-1.7 CMIP-6.2\n",
       "    creation_date:           2018-04-06T22:13:45Z\n",
       "    tracking_id:             hdl:21.14100/93a7b771-33e9-44e0-b667-13fbf16f7dd0\n",
       "    description:             DECK: abrupt-4xCO2\n",
       "    title:                   CNRM-CM6-1 model output prepared for CMIP6 / CMI...\n",
       "    ...                      ...\n",
       "    dr2xml_md5sum:           f996a989d4bc796959fe96cfda3db969\n",
       "    xios_commit:             1442-shuffle\n",
       "    nemo_gelato_commit:      49095b3accd5d4c_6524fe19b00467a\n",
       "    arpege_minor_version:    6.3.1\n",
       "    intake_esm_varname:      [&#x27;deptho&#x27;]\n",
       "    intake_esm_dataset_key:  CMIP6.CNRM-CERFACS.CNRM-CM6-1.abrupt-4xCO2.Ofx</pre><div class='xr-wrap' hidden><div class='xr-header'><div class='xr-obj-type'>xarray.Dataset</div></div><ul class='xr-sections'><li class='xr-section-item'><input id='section-39f2ad61-1cfa-499b-9981-a299b11081f7' class='xr-section-summary-in' type='checkbox' disabled ><label for='section-39f2ad61-1cfa-499b-9981-a299b11081f7' class='xr-section-summary'  title='Expand/collapse section'>Dimensions:</label><div class='xr-section-inline-details'><ul class='xr-dim-list'><li><span>axis_nbounds</span>: 2</li><li><span class='xr-has-index'>lev</span>: 75</li><li><span class='xr-has-index'>member_id</span>: 1</li><li><span>nvertex</span>: 4</li><li><span>x</span>: 362</li><li><span>y</span>: 294</li></ul></div><div class='xr-section-details'></div></li><li class='xr-section-item'><input id='section-a7c3dde0-d9bd-4ec6-beec-1a0370655cb9' class='xr-section-summary-in' type='checkbox'  checked><label for='section-a7c3dde0-d9bd-4ec6-beec-1a0370655cb9' class='xr-section-summary' >Coordinates: <span>(4)</span></label><div class='xr-section-inline-details'></div><div class='xr-section-details'><ul class='xr-var-list'><li class='xr-var-item'><div class='xr-var-name'><span>lat</span></div><div class='xr-var-dims'>(y, x)</div><div class='xr-var-dtype'>float64</div><div class='xr-var-preview xr-preview'>dask.array&lt;chunksize=(294, 362), meta=np.ndarray&gt;</div><input id='attrs-6faed8cc-9019-44d2-9976-f3b5e21ae1f1' class='xr-var-attrs-in' type='checkbox' ><label for='attrs-6faed8cc-9019-44d2-9976-f3b5e21ae1f1' title='Show/Hide attributes'><svg class='icon xr-icon-file-text2'><use xlink:href='#icon-file-text2'></use></svg></label><input id='data-53ddb3c9-e17d-4bca-876f-69956f8a640f' class='xr-var-data-in' type='checkbox'><label for='data-53ddb3c9-e17d-4bca-876f-69956f8a640f' title='Show/Hide data repr'><svg class='icon xr-icon-database'><use xlink:href='#icon-database'></use></svg></label><div class='xr-var-attrs'><dl class='xr-attrs'><dt><span>standard_name :</span></dt><dd>latitude</dd><dt><span>long_name :</span></dt><dd>Latitude</dd><dt><span>units :</span></dt><dd>degrees_north</dd><dt><span>bounds :</span></dt><dd>bounds_lat</dd></dl></div><div class='xr-var-data'><table>\n",
       "<tr>\n",
       "<td>\n",
       "<table>\n",
       "  <thead>\n",
       "    <tr><td> </td><th> Array </th><th> Chunk </th></tr>\n",
       "  </thead>\n",
       "  <tbody>\n",
       "    <tr><th> Bytes </th><td> 831.47 kiB </td> <td> 831.47 kiB </td></tr>\n",
       "    <tr><th> Shape </th><td> (294, 362) </td> <td> (294, 362) </td></tr>\n",
       "    <tr><th> Count </th><td> 2 Tasks </td><td> 1 Chunks </td></tr>\n",
       "    <tr><th> Type </th><td> float64 </td><td> numpy.ndarray </td></tr>\n",
       "  </tbody>\n",
       "</table>\n",
       "</td>\n",
       "<td>\n",
       "<svg width=\"170\" height=\"147\" style=\"stroke:rgb(0,0,0);stroke-width:1\" >\n",
       "\n",
       "  <!-- Horizontal lines -->\n",
       "  <line x1=\"0\" y1=\"0\" x2=\"120\" y2=\"0\" style=\"stroke-width:2\" />\n",
       "  <line x1=\"0\" y1=\"97\" x2=\"120\" y2=\"97\" style=\"stroke-width:2\" />\n",
       "\n",
       "  <!-- Vertical lines -->\n",
       "  <line x1=\"0\" y1=\"0\" x2=\"0\" y2=\"97\" style=\"stroke-width:2\" />\n",
       "  <line x1=\"120\" y1=\"0\" x2=\"120\" y2=\"97\" style=\"stroke-width:2\" />\n",
       "\n",
       "  <!-- Colored Rectangle -->\n",
       "  <polygon points=\"0.0,0.0 120.0,0.0 120.0,97.4585635359116 0.0,97.4585635359116\" style=\"fill:#ECB172A0;stroke-width:0\"/>\n",
       "\n",
       "  <!-- Text -->\n",
       "  <text x=\"60.000000\" y=\"117.458564\" font-size=\"1.0rem\" font-weight=\"100\" text-anchor=\"middle\" >362</text>\n",
       "  <text x=\"140.000000\" y=\"48.729282\" font-size=\"1.0rem\" font-weight=\"100\" text-anchor=\"middle\" transform=\"rotate(-90,140.000000,48.729282)\">294</text>\n",
       "</svg>\n",
       "</td>\n",
       "</tr>\n",
       "</table></div></li><li class='xr-var-item'><div class='xr-var-name'><span>lon</span></div><div class='xr-var-dims'>(y, x)</div><div class='xr-var-dtype'>float64</div><div class='xr-var-preview xr-preview'>dask.array&lt;chunksize=(294, 362), meta=np.ndarray&gt;</div><input id='attrs-bc6b78b6-6628-4e6e-84c9-3b5fb1087076' class='xr-var-attrs-in' type='checkbox' ><label for='attrs-bc6b78b6-6628-4e6e-84c9-3b5fb1087076' title='Show/Hide attributes'><svg class='icon xr-icon-file-text2'><use xlink:href='#icon-file-text2'></use></svg></label><input id='data-01552461-4ae9-45e6-a875-46702f320a4b' class='xr-var-data-in' type='checkbox'><label for='data-01552461-4ae9-45e6-a875-46702f320a4b' title='Show/Hide data repr'><svg class='icon xr-icon-database'><use xlink:href='#icon-database'></use></svg></label><div class='xr-var-attrs'><dl class='xr-attrs'><dt><span>standard_name :</span></dt><dd>longitude</dd><dt><span>long_name :</span></dt><dd>Longitude</dd><dt><span>units :</span></dt><dd>degrees_east</dd><dt><span>bounds :</span></dt><dd>bounds_lon</dd></dl></div><div class='xr-var-data'><table>\n",
       "<tr>\n",
       "<td>\n",
       "<table>\n",
       "  <thead>\n",
       "    <tr><td> </td><th> Array </th><th> Chunk </th></tr>\n",
       "  </thead>\n",
       "  <tbody>\n",
       "    <tr><th> Bytes </th><td> 831.47 kiB </td> <td> 831.47 kiB </td></tr>\n",
       "    <tr><th> Shape </th><td> (294, 362) </td> <td> (294, 362) </td></tr>\n",
       "    <tr><th> Count </th><td> 2 Tasks </td><td> 1 Chunks </td></tr>\n",
       "    <tr><th> Type </th><td> float64 </td><td> numpy.ndarray </td></tr>\n",
       "  </tbody>\n",
       "</table>\n",
       "</td>\n",
       "<td>\n",
       "<svg width=\"170\" height=\"147\" style=\"stroke:rgb(0,0,0);stroke-width:1\" >\n",
       "\n",
       "  <!-- Horizontal lines -->\n",
       "  <line x1=\"0\" y1=\"0\" x2=\"120\" y2=\"0\" style=\"stroke-width:2\" />\n",
       "  <line x1=\"0\" y1=\"97\" x2=\"120\" y2=\"97\" style=\"stroke-width:2\" />\n",
       "\n",
       "  <!-- Vertical lines -->\n",
       "  <line x1=\"0\" y1=\"0\" x2=\"0\" y2=\"97\" style=\"stroke-width:2\" />\n",
       "  <line x1=\"120\" y1=\"0\" x2=\"120\" y2=\"97\" style=\"stroke-width:2\" />\n",
       "\n",
       "  <!-- Colored Rectangle -->\n",
       "  <polygon points=\"0.0,0.0 120.0,0.0 120.0,97.4585635359116 0.0,97.4585635359116\" style=\"fill:#ECB172A0;stroke-width:0\"/>\n",
       "\n",
       "  <!-- Text -->\n",
       "  <text x=\"60.000000\" y=\"117.458564\" font-size=\"1.0rem\" font-weight=\"100\" text-anchor=\"middle\" >362</text>\n",
       "  <text x=\"140.000000\" y=\"48.729282\" font-size=\"1.0rem\" font-weight=\"100\" text-anchor=\"middle\" transform=\"rotate(-90,140.000000,48.729282)\">294</text>\n",
       "</svg>\n",
       "</td>\n",
       "</tr>\n",
       "</table></div></li><li class='xr-var-item'><div class='xr-var-name'><span class='xr-has-index'>lev</span></div><div class='xr-var-dims'>(lev)</div><div class='xr-var-dtype'>float64</div><div class='xr-var-preview xr-preview'>0.5058 1.556 ... 5.902e+03</div><input id='attrs-f72650ed-e690-4da7-807d-c589f58dd064' class='xr-var-attrs-in' type='checkbox' ><label for='attrs-f72650ed-e690-4da7-807d-c589f58dd064' title='Show/Hide attributes'><svg class='icon xr-icon-file-text2'><use xlink:href='#icon-file-text2'></use></svg></label><input id='data-9f615076-2ff4-48df-8988-aa11060e299a' class='xr-var-data-in' type='checkbox'><label for='data-9f615076-2ff4-48df-8988-aa11060e299a' title='Show/Hide data repr'><svg class='icon xr-icon-database'><use xlink:href='#icon-database'></use></svg></label><div class='xr-var-attrs'><dl class='xr-attrs'><dt><span>name :</span></dt><dd>lev</dd><dt><span>long_name :</span></dt><dd>Vertical T levels</dd><dt><span>units :</span></dt><dd>m</dd><dt><span>positive :</span></dt><dd>down</dd><dt><span>bounds :</span></dt><dd>lev_bounds</dd></dl></div><div class='xr-var-data'><pre>array([5.057600e-01, 1.555855e+00, 2.667682e+00, 3.856280e+00, 5.140361e+00,\n",
       "       6.543034e+00, 8.092518e+00, 9.822750e+00, 1.177368e+01, 1.399104e+01,\n",
       "       1.652532e+01, 1.942980e+01, 2.275762e+01, 2.655830e+01, 3.087456e+01,\n",
       "       3.574020e+01, 4.118002e+01, 4.721189e+01, 5.385064e+01, 6.111284e+01,\n",
       "       6.902168e+01, 7.761116e+01, 8.692943e+01, 9.704131e+01, 1.080303e+02,\n",
       "       1.200000e+02, 1.330758e+02, 1.474062e+02, 1.631645e+02, 1.805499e+02,\n",
       "       1.997900e+02, 2.211412e+02, 2.448906e+02, 2.713564e+02, 3.008875e+02,\n",
       "       3.338628e+02, 3.706885e+02, 4.117938e+02, 4.576256e+02, 5.086399e+02,\n",
       "       5.652923e+02, 6.280260e+02, 6.972586e+02, 7.733683e+02, 8.566789e+02,\n",
       "       9.474479e+02, 1.045854e+03, 1.151991e+03, 1.265861e+03, 1.387377e+03,\n",
       "       1.516364e+03, 1.652568e+03, 1.795671e+03, 1.945295e+03, 2.101027e+03,\n",
       "       2.262422e+03, 2.429025e+03, 2.600380e+03, 2.776039e+03, 2.955570e+03,\n",
       "       3.138565e+03, 3.324641e+03, 3.513446e+03, 3.704657e+03, 3.897982e+03,\n",
       "       4.093159e+03, 4.289952e+03, 4.488155e+03, 4.687581e+03, 4.888070e+03,\n",
       "       5.089479e+03, 5.291683e+03, 5.494575e+03, 5.698061e+03, 5.902058e+03])</pre></div></li><li class='xr-var-item'><div class='xr-var-name'><span class='xr-has-index'>member_id</span></div><div class='xr-var-dims'>(member_id)</div><div class='xr-var-dtype'>&lt;U8</div><div class='xr-var-preview xr-preview'>&#x27;r1i1p1f2&#x27;</div><input id='attrs-d069eb86-5965-490c-902e-25f6d9dc27d1' class='xr-var-attrs-in' type='checkbox' disabled><label for='attrs-d069eb86-5965-490c-902e-25f6d9dc27d1' title='Show/Hide attributes'><svg class='icon xr-icon-file-text2'><use xlink:href='#icon-file-text2'></use></svg></label><input id='data-4998e0fa-c152-4833-8d11-0bac25928ea8' class='xr-var-data-in' type='checkbox'><label for='data-4998e0fa-c152-4833-8d11-0bac25928ea8' title='Show/Hide data repr'><svg class='icon xr-icon-database'><use xlink:href='#icon-database'></use></svg></label><div class='xr-var-attrs'><dl class='xr-attrs'></dl></div><div class='xr-var-data'><pre>array([&#x27;r1i1p1f2&#x27;], dtype=&#x27;&lt;U8&#x27;)</pre></div></li></ul></div></li><li class='xr-section-item'><input id='section-f5dfc501-d73a-4e2d-b29a-a607a8e64e97' class='xr-section-summary-in' type='checkbox'  checked><label for='section-f5dfc501-d73a-4e2d-b29a-a607a8e64e97' class='xr-section-summary' >Data variables: <span>(4)</span></label><div class='xr-section-inline-details'></div><div class='xr-section-details'><ul class='xr-var-list'><li class='xr-var-item'><div class='xr-var-name'><span>bounds_lon</span></div><div class='xr-var-dims'>(y, x, nvertex)</div><div class='xr-var-dtype'>float64</div><div class='xr-var-preview xr-preview'>dask.array&lt;chunksize=(294, 362, 4), meta=np.ndarray&gt;</div><input id='attrs-ea8f33b3-b36f-452a-88cb-7f47e429d7af' class='xr-var-attrs-in' type='checkbox' disabled><label for='attrs-ea8f33b3-b36f-452a-88cb-7f47e429d7af' title='Show/Hide attributes'><svg class='icon xr-icon-file-text2'><use xlink:href='#icon-file-text2'></use></svg></label><input id='data-ea84c2be-ecdc-4f5b-8a4b-2bbfa1391bff' class='xr-var-data-in' type='checkbox'><label for='data-ea84c2be-ecdc-4f5b-8a4b-2bbfa1391bff' title='Show/Hide data repr'><svg class='icon xr-icon-database'><use xlink:href='#icon-database'></use></svg></label><div class='xr-var-attrs'><dl class='xr-attrs'></dl></div><div class='xr-var-data'><table>\n",
       "<tr>\n",
       "<td>\n",
       "<table>\n",
       "  <thead>\n",
       "    <tr><td> </td><th> Array </th><th> Chunk </th></tr>\n",
       "  </thead>\n",
       "  <tbody>\n",
       "    <tr><th> Bytes </th><td> 3.25 MiB </td> <td> 3.25 MiB </td></tr>\n",
       "    <tr><th> Shape </th><td> (294, 362, 4) </td> <td> (294, 362, 4) </td></tr>\n",
       "    <tr><th> Count </th><td> 2 Tasks </td><td> 1 Chunks </td></tr>\n",
       "    <tr><th> Type </th><td> float64 </td><td> numpy.ndarray </td></tr>\n",
       "  </tbody>\n",
       "</table>\n",
       "</td>\n",
       "<td>\n",
       "<svg width=\"143\" height=\"227\" style=\"stroke:rgb(0,0,0);stroke-width:1\" >\n",
       "\n",
       "  <!-- Horizontal lines -->\n",
       "  <line x1=\"10\" y1=\"0\" x2=\"67\" y2=\"57\" style=\"stroke-width:2\" />\n",
       "  <line x1=\"10\" y1=\"120\" x2=\"67\" y2=\"177\" style=\"stroke-width:2\" />\n",
       "\n",
       "  <!-- Vertical lines -->\n",
       "  <line x1=\"10\" y1=\"0\" x2=\"10\" y2=\"120\" style=\"stroke-width:2\" />\n",
       "  <line x1=\"67\" y1=\"57\" x2=\"67\" y2=\"177\" style=\"stroke-width:2\" />\n",
       "\n",
       "  <!-- Colored Rectangle -->\n",
       "  <polygon points=\"10.0,0.0 67.32856678583036,57.328566785830354 67.32856678583036,177.32856678583036 10.0,120.0\" style=\"fill:#ECB172A0;stroke-width:0\"/>\n",
       "\n",
       "  <!-- Horizontal lines -->\n",
       "  <line x1=\"10\" y1=\"0\" x2=\"35\" y2=\"0\" style=\"stroke-width:2\" />\n",
       "  <line x1=\"67\" y1=\"57\" x2=\"93\" y2=\"57\" style=\"stroke-width:2\" />\n",
       "\n",
       "  <!-- Vertical lines -->\n",
       "  <line x1=\"10\" y1=\"0\" x2=\"67\" y2=\"57\" style=\"stroke-width:2\" />\n",
       "  <line x1=\"35\" y1=\"0\" x2=\"93\" y2=\"57\" style=\"stroke-width:2\" />\n",
       "\n",
       "  <!-- Colored Rectangle -->\n",
       "  <polygon points=\"10.0,0.0 35.89690899898957,0.0 93.22547578481993,57.328566785830354 67.32856678583036,57.328566785830354\" style=\"fill:#ECB172A0;stroke-width:0\"/>\n",
       "\n",
       "  <!-- Horizontal lines -->\n",
       "  <line x1=\"67\" y1=\"57\" x2=\"93\" y2=\"57\" style=\"stroke-width:2\" />\n",
       "  <line x1=\"67\" y1=\"177\" x2=\"93\" y2=\"177\" style=\"stroke-width:2\" />\n",
       "\n",
       "  <!-- Vertical lines -->\n",
       "  <line x1=\"67\" y1=\"57\" x2=\"67\" y2=\"177\" style=\"stroke-width:2\" />\n",
       "  <line x1=\"93\" y1=\"57\" x2=\"93\" y2=\"177\" style=\"stroke-width:2\" />\n",
       "\n",
       "  <!-- Colored Rectangle -->\n",
       "  <polygon points=\"67.32856678583036,57.328566785830354 93.22547578481993,57.328566785830354 93.22547578481993,177.32856678583036 67.32856678583036,177.32856678583036\" style=\"fill:#ECB172A0;stroke-width:0\"/>\n",
       "\n",
       "  <!-- Text -->\n",
       "  <text x=\"80.277021\" y=\"197.328567\" font-size=\"1.0rem\" font-weight=\"100\" text-anchor=\"middle\" >4</text>\n",
       "  <text x=\"113.225476\" y=\"117.328567\" font-size=\"1.0rem\" font-weight=\"100\" text-anchor=\"middle\" transform=\"rotate(-90,113.225476,117.328567)\">362</text>\n",
       "  <text x=\"28.664283\" y=\"168.664283\" font-size=\"1.0rem\" font-weight=\"100\" text-anchor=\"middle\" transform=\"rotate(45,28.664283,168.664283)\">294</text>\n",
       "</svg>\n",
       "</td>\n",
       "</tr>\n",
       "</table></div></li><li class='xr-var-item'><div class='xr-var-name'><span>bounds_lat</span></div><div class='xr-var-dims'>(y, x, nvertex)</div><div class='xr-var-dtype'>float64</div><div class='xr-var-preview xr-preview'>dask.array&lt;chunksize=(294, 362, 4), meta=np.ndarray&gt;</div><input id='attrs-bde20608-94cc-4923-a840-b33786cecaf0' class='xr-var-attrs-in' type='checkbox' disabled><label for='attrs-bde20608-94cc-4923-a840-b33786cecaf0' title='Show/Hide attributes'><svg class='icon xr-icon-file-text2'><use xlink:href='#icon-file-text2'></use></svg></label><input id='data-c13ecde4-5120-44d5-98a5-c6a63120ff1c' class='xr-var-data-in' type='checkbox'><label for='data-c13ecde4-5120-44d5-98a5-c6a63120ff1c' title='Show/Hide data repr'><svg class='icon xr-icon-database'><use xlink:href='#icon-database'></use></svg></label><div class='xr-var-attrs'><dl class='xr-attrs'></dl></div><div class='xr-var-data'><table>\n",
       "<tr>\n",
       "<td>\n",
       "<table>\n",
       "  <thead>\n",
       "    <tr><td> </td><th> Array </th><th> Chunk </th></tr>\n",
       "  </thead>\n",
       "  <tbody>\n",
       "    <tr><th> Bytes </th><td> 3.25 MiB </td> <td> 3.25 MiB </td></tr>\n",
       "    <tr><th> Shape </th><td> (294, 362, 4) </td> <td> (294, 362, 4) </td></tr>\n",
       "    <tr><th> Count </th><td> 2 Tasks </td><td> 1 Chunks </td></tr>\n",
       "    <tr><th> Type </th><td> float64 </td><td> numpy.ndarray </td></tr>\n",
       "  </tbody>\n",
       "</table>\n",
       "</td>\n",
       "<td>\n",
       "<svg width=\"143\" height=\"227\" style=\"stroke:rgb(0,0,0);stroke-width:1\" >\n",
       "\n",
       "  <!-- Horizontal lines -->\n",
       "  <line x1=\"10\" y1=\"0\" x2=\"67\" y2=\"57\" style=\"stroke-width:2\" />\n",
       "  <line x1=\"10\" y1=\"120\" x2=\"67\" y2=\"177\" style=\"stroke-width:2\" />\n",
       "\n",
       "  <!-- Vertical lines -->\n",
       "  <line x1=\"10\" y1=\"0\" x2=\"10\" y2=\"120\" style=\"stroke-width:2\" />\n",
       "  <line x1=\"67\" y1=\"57\" x2=\"67\" y2=\"177\" style=\"stroke-width:2\" />\n",
       "\n",
       "  <!-- Colored Rectangle -->\n",
       "  <polygon points=\"10.0,0.0 67.32856678583036,57.328566785830354 67.32856678583036,177.32856678583036 10.0,120.0\" style=\"fill:#ECB172A0;stroke-width:0\"/>\n",
       "\n",
       "  <!-- Horizontal lines -->\n",
       "  <line x1=\"10\" y1=\"0\" x2=\"35\" y2=\"0\" style=\"stroke-width:2\" />\n",
       "  <line x1=\"67\" y1=\"57\" x2=\"93\" y2=\"57\" style=\"stroke-width:2\" />\n",
       "\n",
       "  <!-- Vertical lines -->\n",
       "  <line x1=\"10\" y1=\"0\" x2=\"67\" y2=\"57\" style=\"stroke-width:2\" />\n",
       "  <line x1=\"35\" y1=\"0\" x2=\"93\" y2=\"57\" style=\"stroke-width:2\" />\n",
       "\n",
       "  <!-- Colored Rectangle -->\n",
       "  <polygon points=\"10.0,0.0 35.89690899898957,0.0 93.22547578481993,57.328566785830354 67.32856678583036,57.328566785830354\" style=\"fill:#ECB172A0;stroke-width:0\"/>\n",
       "\n",
       "  <!-- Horizontal lines -->\n",
       "  <line x1=\"67\" y1=\"57\" x2=\"93\" y2=\"57\" style=\"stroke-width:2\" />\n",
       "  <line x1=\"67\" y1=\"177\" x2=\"93\" y2=\"177\" style=\"stroke-width:2\" />\n",
       "\n",
       "  <!-- Vertical lines -->\n",
       "  <line x1=\"67\" y1=\"57\" x2=\"67\" y2=\"177\" style=\"stroke-width:2\" />\n",
       "  <line x1=\"93\" y1=\"57\" x2=\"93\" y2=\"177\" style=\"stroke-width:2\" />\n",
       "\n",
       "  <!-- Colored Rectangle -->\n",
       "  <polygon points=\"67.32856678583036,57.328566785830354 93.22547578481993,57.328566785830354 93.22547578481993,177.32856678583036 67.32856678583036,177.32856678583036\" style=\"fill:#ECB172A0;stroke-width:0\"/>\n",
       "\n",
       "  <!-- Text -->\n",
       "  <text x=\"80.277021\" y=\"197.328567\" font-size=\"1.0rem\" font-weight=\"100\" text-anchor=\"middle\" >4</text>\n",
       "  <text x=\"113.225476\" y=\"117.328567\" font-size=\"1.0rem\" font-weight=\"100\" text-anchor=\"middle\" transform=\"rotate(-90,113.225476,117.328567)\">362</text>\n",
       "  <text x=\"28.664283\" y=\"168.664283\" font-size=\"1.0rem\" font-weight=\"100\" text-anchor=\"middle\" transform=\"rotate(45,28.664283,168.664283)\">294</text>\n",
       "</svg>\n",
       "</td>\n",
       "</tr>\n",
       "</table></div></li><li class='xr-var-item'><div class='xr-var-name'><span>lev_bounds</span></div><div class='xr-var-dims'>(lev, axis_nbounds)</div><div class='xr-var-dtype'>float64</div><div class='xr-var-preview xr-preview'>dask.array&lt;chunksize=(75, 2), meta=np.ndarray&gt;</div><input id='attrs-392252a6-e611-4f44-a46d-73f73bfc0446' class='xr-var-attrs-in' type='checkbox' ><label for='attrs-392252a6-e611-4f44-a46d-73f73bfc0446' title='Show/Hide attributes'><svg class='icon xr-icon-file-text2'><use xlink:href='#icon-file-text2'></use></svg></label><input id='data-04cc6c69-6c01-4dda-b294-6e38aaba6d35' class='xr-var-data-in' type='checkbox'><label for='data-04cc6c69-6c01-4dda-b294-6e38aaba6d35' title='Show/Hide data repr'><svg class='icon xr-icon-database'><use xlink:href='#icon-database'></use></svg></label><div class='xr-var-attrs'><dl class='xr-attrs'><dt><span>units :</span></dt><dd>m</dd></dl></div><div class='xr-var-data'><table>\n",
       "<tr>\n",
       "<td>\n",
       "<table>\n",
       "  <thead>\n",
       "    <tr><td> </td><th> Array </th><th> Chunk </th></tr>\n",
       "  </thead>\n",
       "  <tbody>\n",
       "    <tr><th> Bytes </th><td> 1.17 kiB </td> <td> 1.17 kiB </td></tr>\n",
       "    <tr><th> Shape </th><td> (75, 2) </td> <td> (75, 2) </td></tr>\n",
       "    <tr><th> Count </th><td> 2 Tasks </td><td> 1 Chunks </td></tr>\n",
       "    <tr><th> Type </th><td> float64 </td><td> numpy.ndarray </td></tr>\n",
       "  </tbody>\n",
       "</table>\n",
       "</td>\n",
       "<td>\n",
       "<svg width=\"80\" height=\"170\" style=\"stroke:rgb(0,0,0);stroke-width:1\" >\n",
       "\n",
       "  <!-- Horizontal lines -->\n",
       "  <line x1=\"0\" y1=\"0\" x2=\"30\" y2=\"0\" style=\"stroke-width:2\" />\n",
       "  <line x1=\"0\" y1=\"120\" x2=\"30\" y2=\"120\" style=\"stroke-width:2\" />\n",
       "\n",
       "  <!-- Vertical lines -->\n",
       "  <line x1=\"0\" y1=\"0\" x2=\"0\" y2=\"120\" style=\"stroke-width:2\" />\n",
       "  <line x1=\"30\" y1=\"0\" x2=\"30\" y2=\"120\" style=\"stroke-width:2\" />\n",
       "\n",
       "  <!-- Colored Rectangle -->\n",
       "  <polygon points=\"0.0,0.0 30.690372229553788,0.0 30.690372229553788,120.0 0.0,120.0\" style=\"fill:#ECB172A0;stroke-width:0\"/>\n",
       "\n",
       "  <!-- Text -->\n",
       "  <text x=\"15.345186\" y=\"140.000000\" font-size=\"1.0rem\" font-weight=\"100\" text-anchor=\"middle\" >2</text>\n",
       "  <text x=\"50.690372\" y=\"60.000000\" font-size=\"1.0rem\" font-weight=\"100\" text-anchor=\"middle\" transform=\"rotate(0,50.690372,60.000000)\">75</text>\n",
       "</svg>\n",
       "</td>\n",
       "</tr>\n",
       "</table></div></li><li class='xr-var-item'><div class='xr-var-name'><span>deptho</span></div><div class='xr-var-dims'>(member_id, lev, y, x)</div><div class='xr-var-dtype'>float32</div><div class='xr-var-preview xr-preview'>dask.array&lt;chunksize=(1, 75, 294, 362), meta=np.ndarray&gt;</div><input id='attrs-b6da5460-1884-4ed5-9161-d9398a10a2d4' class='xr-var-attrs-in' type='checkbox' ><label for='attrs-b6da5460-1884-4ed5-9161-d9398a10a2d4' title='Show/Hide attributes'><svg class='icon xr-icon-file-text2'><use xlink:href='#icon-file-text2'></use></svg></label><input id='data-5a5ff272-c1bd-4cf8-af10-3a71f83d121d' class='xr-var-data-in' type='checkbox'><label for='data-5a5ff272-c1bd-4cf8-af10-3a71f83d121d' title='Show/Hide data repr'><svg class='icon xr-icon-database'><use xlink:href='#icon-database'></use></svg></label><div class='xr-var-attrs'><dl class='xr-attrs'><dt><span>standard_name :</span></dt><dd>sea_floor_depth_below_geoid</dd><dt><span>long_name :</span></dt><dd>Sea Floor Depth Below Geoid</dd><dt><span>units :</span></dt><dd>m</dd><dt><span>online_operation :</span></dt><dd>once</dd><dt><span>cell_methods :</span></dt><dd>area: mean</dd><dt><span>description :</span></dt><dd>Ocean bathymetry. Reported here is the sea floor depth for present day relative to z=0 geoid. Reported as missing for land grid cells.</dd><dt><span>history :</span></dt><dd>none</dd><dt><span>cell_measures :</span></dt><dd>area: areacello</dd></dl></div><div class='xr-var-data'><table>\n",
       "<tr>\n",
       "<td>\n",
       "<table>\n",
       "  <thead>\n",
       "    <tr><td> </td><th> Array </th><th> Chunk </th></tr>\n",
       "  </thead>\n",
       "  <tbody>\n",
       "    <tr><th> Bytes </th><td> 30.45 MiB </td> <td> 30.45 MiB </td></tr>\n",
       "    <tr><th> Shape </th><td> (1, 75, 294, 362) </td> <td> (1, 75, 294, 362) </td></tr>\n",
       "    <tr><th> Count </th><td> 3 Tasks </td><td> 1 Chunks </td></tr>\n",
       "    <tr><th> Type </th><td> float32 </td><td> numpy.ndarray </td></tr>\n",
       "  </tbody>\n",
       "</table>\n",
       "</td>\n",
       "<td>\n",
       "<svg width=\"384\" height=\"172\" style=\"stroke:rgb(0,0,0);stroke-width:1\" >\n",
       "\n",
       "  <!-- Horizontal lines -->\n",
       "  <line x1=\"0\" y1=\"0\" x2=\"25\" y2=\"0\" style=\"stroke-width:2\" />\n",
       "  <line x1=\"0\" y1=\"25\" x2=\"25\" y2=\"25\" style=\"stroke-width:2\" />\n",
       "\n",
       "  <!-- Vertical lines -->\n",
       "  <line x1=\"0\" y1=\"0\" x2=\"0\" y2=\"25\" style=\"stroke-width:2\" />\n",
       "  <line x1=\"25\" y1=\"0\" x2=\"25\" y2=\"25\" style=\"stroke-width:2\" />\n",
       "\n",
       "  <!-- Colored Rectangle -->\n",
       "  <polygon points=\"0.0,0.0 25.412616514582485,0.0 25.412616514582485,25.412616514582485 0.0,25.412616514582485\" style=\"fill:#ECB172A0;stroke-width:0\"/>\n",
       "\n",
       "  <!-- Text -->\n",
       "  <text x=\"12.706308\" y=\"45.412617\" font-size=\"1.0rem\" font-weight=\"100\" text-anchor=\"middle\" >1</text>\n",
       "  <text x=\"45.412617\" y=\"12.706308\" font-size=\"1.0rem\" font-weight=\"100\" text-anchor=\"middle\" transform=\"rotate(0,45.412617,12.706308)\">1</text>\n",
       "\n",
       "\n",
       "  <!-- Horizontal lines -->\n",
       "  <line x1=\"95\" y1=\"0\" x2=\"119\" y2=\"24\" style=\"stroke-width:2\" />\n",
       "  <line x1=\"95\" y1=\"97\" x2=\"119\" y2=\"122\" style=\"stroke-width:2\" />\n",
       "\n",
       "  <!-- Vertical lines -->\n",
       "  <line x1=\"95\" y1=\"0\" x2=\"95\" y2=\"97\" style=\"stroke-width:2\" />\n",
       "  <line x1=\"119\" y1=\"24\" x2=\"119\" y2=\"122\" style=\"stroke-width:2\" />\n",
       "\n",
       "  <!-- Colored Rectangle -->\n",
       "  <polygon points=\"95.0,0.0 119.7986167858133,24.79861678581329 119.7986167858133,122.25718032172489 95.0,97.4585635359116\" style=\"fill:#ECB172A0;stroke-width:0\"/>\n",
       "\n",
       "  <!-- Horizontal lines -->\n",
       "  <line x1=\"95\" y1=\"0\" x2=\"215\" y2=\"0\" style=\"stroke-width:2\" />\n",
       "  <line x1=\"119\" y1=\"24\" x2=\"239\" y2=\"24\" style=\"stroke-width:2\" />\n",
       "\n",
       "  <!-- Vertical lines -->\n",
       "  <line x1=\"95\" y1=\"0\" x2=\"119\" y2=\"24\" style=\"stroke-width:2\" />\n",
       "  <line x1=\"215\" y1=\"0\" x2=\"239\" y2=\"24\" style=\"stroke-width:2\" />\n",
       "\n",
       "  <!-- Colored Rectangle -->\n",
       "  <polygon points=\"95.0,0.0 215.0,0.0 239.7986167858133,24.79861678581329 119.7986167858133,24.79861678581329\" style=\"fill:#ECB172A0;stroke-width:0\"/>\n",
       "\n",
       "  <!-- Horizontal lines -->\n",
       "  <line x1=\"119\" y1=\"24\" x2=\"239\" y2=\"24\" style=\"stroke-width:2\" />\n",
       "  <line x1=\"119\" y1=\"122\" x2=\"239\" y2=\"122\" style=\"stroke-width:2\" />\n",
       "\n",
       "  <!-- Vertical lines -->\n",
       "  <line x1=\"119\" y1=\"24\" x2=\"119\" y2=\"122\" style=\"stroke-width:2\" />\n",
       "  <line x1=\"239\" y1=\"24\" x2=\"239\" y2=\"122\" style=\"stroke-width:2\" />\n",
       "\n",
       "  <!-- Colored Rectangle -->\n",
       "  <polygon points=\"119.7986167858133,24.79861678581329 239.7986167858133,24.79861678581329 239.7986167858133,122.25718032172489 119.7986167858133,122.25718032172489\" style=\"fill:#ECB172A0;stroke-width:0\"/>\n",
       "\n",
       "  <!-- Text -->\n",
       "  <text x=\"179.798617\" y=\"142.257180\" font-size=\"1.0rem\" font-weight=\"100\" text-anchor=\"middle\" >362</text>\n",
       "  <text x=\"259.798617\" y=\"73.527899\" font-size=\"1.0rem\" font-weight=\"100\" text-anchor=\"middle\" transform=\"rotate(-90,259.798617,73.527899)\">294</text>\n",
       "  <text x=\"97.399308\" y=\"129.857872\" font-size=\"1.0rem\" font-weight=\"100\" text-anchor=\"middle\" transform=\"rotate(45,97.399308,129.857872)\">75</text>\n",
       "</svg>\n",
       "</td>\n",
       "</tr>\n",
       "</table></div></li></ul></div></li><li class='xr-section-item'><input id='section-a9613387-b8c0-49ac-ab37-3774d7af32f7' class='xr-section-summary-in' type='checkbox'  ><label for='section-a9613387-b8c0-49ac-ab37-3774d7af32f7' class='xr-section-summary' >Attributes: <span>(55)</span></label><div class='xr-section-inline-details'></div><div class='xr-section-details'><dl class='xr-attrs'><dt><span>name :</span></dt><dd>/scratch/utmp/ftdir/voldoire/eclis/transfers/CNRM-CM6-1_abrupt-4xCO2_r1i1p1f2/iox/deptho_Ofx_CNRM-CM6-1_abrupt-4xCO2_r1i1p1f2_gn</dd><dt><span>Conventions :</span></dt><dd>CF-1.7 CMIP-6.2</dd><dt><span>creation_date :</span></dt><dd>2018-04-06T22:13:45Z</dd><dt><span>tracking_id :</span></dt><dd>hdl:21.14100/93a7b771-33e9-44e0-b667-13fbf16f7dd0</dd><dt><span>description :</span></dt><dd>DECK: abrupt-4xCO2</dd><dt><span>title :</span></dt><dd>CNRM-CM6-1 model output prepared for CMIP6 / CMIP abrupt-4xCO2</dd><dt><span>activity_id :</span></dt><dd>CMIP</dd><dt><span>contact :</span></dt><dd>contact.cmip@meteo.fr</dd><dt><span>data_specs_version :</span></dt><dd>01.00.21</dd><dt><span>dr2xml_version :</span></dt><dd>1.0</dd><dt><span>experiment_id :</span></dt><dd>abrupt-4xCO2</dd><dt><span>experiment :</span></dt><dd>abrupt quadrupling of CO2</dd><dt><span>forcing_index :</span></dt><dd>[2]</dd><dt><span>frequency :</span></dt><dd>fx</dd><dt><span>further_info_url :</span></dt><dd>https://furtherinfo.es-doc.org/CMIP6.CNRM-CERFACS.CNRM-CM6-1.abrupt-4xCO2.none.r1i1p1f2</dd><dt><span>grid :</span></dt><dd>native ocean tri-polar grid with 105 k ocean cells</dd><dt><span>grid_label :</span></dt><dd>gn</dd><dt><span>nominal_resolution :</span></dt><dd>100 km</dd><dt><span>history :</span></dt><dd>none</dd><dt><span>initialization_index :</span></dt><dd>[1]</dd><dt><span>institution_id :</span></dt><dd>CNRM-CERFACS</dd><dt><span>institution :</span></dt><dd>CNRM (Centre National de Recherches Meteorologiques, Toulouse 31057, France), CERFACS (Centre Europeen de Recherche et de Formation Avancee en Calcul Scientifique, Toulouse 31057, France)</dd><dt><span>license :</span></dt><dd>CMIP6 model data produced by CNRM-CERFACS is licensed under a Creative Commons Attribution-NonCommercial-ShareAlike 4.0 International License (https://creativecommons.org/licenses). Consult https://pcmdi.llnl.gov/CMIP6/TermsOfUse for terms of use governing CMIP6 output, including citation requirements and proper acknowledgment. Further information about this data, including some limitations, can be found via the further_info_url (recorded as a global attribute in this file) and at http://www.umr-cnrm.fr/cmip6/. The data producers and data providers make no warranty, either express or implied, including, but not limited to, warranties of merchantability and fitness for a particular purpose. All liabilities arising from the supply of the information (including any liability arising in negligence) are excluded to the fullest extent permitted by law.</dd><dt><span>mip_era :</span></dt><dd>CMIP6</dd><dt><span>parent_experiment_id :</span></dt><dd>piControl</dd><dt><span>parent_mip_era :</span></dt><dd>CMIP6</dd><dt><span>parent_activity_id :</span></dt><dd>CMIP</dd><dt><span>parent_source_id :</span></dt><dd>CNRM-CM6-1</dd><dt><span>parent_time_units :</span></dt><dd>days since 1850-01-01 00:00:00</dd><dt><span>parent_variant_label :</span></dt><dd>r1i1p1f2</dd><dt><span>branch_method :</span></dt><dd>standard</dd><dt><span>branch_time_in_parent :</span></dt><dd>[0.]</dd><dt><span>branch_time_in_child :</span></dt><dd>[0.]</dd><dt><span>physics_index :</span></dt><dd>[1]</dd><dt><span>product :</span></dt><dd>model-output</dd><dt><span>realization_index :</span></dt><dd>[1]</dd><dt><span>realm :</span></dt><dd>ocean</dd><dt><span>references :</span></dt><dd>http://www.umr-cnrm.fr/cmip6/references</dd><dt><span>source :</span></dt><dd>CNRM-CM6-1 (2017):  aerosol: prescribed monthly fields computed by TACTIC_v2 scheme atmos: Arpege 6.3 (T127; Gaussian Reduced with 24572 grid points in total distributed over 128 latitude circles (with 256 grid points per latitude circle between 30degN and 30degS reducing to 20 grid points per latitude circle at 88.9degN and 88.9degS); 91 levels; top level 78.4 km) atmosChem: OZL_v2 land: Surfex 8.0c ocean: Nemo 3.6 (eORCA1, tripolar primarily 1deg; 362 x 294 longitude/latitude; 75 levels; top grid cell 0-1 m) seaIce: Gelato 6.1</dd><dt><span>source_id :</span></dt><dd>CNRM-CM6-1</dd><dt><span>source_type :</span></dt><dd>AOGCM</dd><dt><span>sub_experiment_id :</span></dt><dd>none</dd><dt><span>sub_experiment :</span></dt><dd>none</dd><dt><span>table_id :</span></dt><dd>Ofx</dd><dt><span>variable_id :</span></dt><dd>deptho</dd><dt><span>variant_info :</span></dt><dd>. Information provided by this attribute may in some cases be flawed. Users can find more comprehensive and up-to-date documentation via the further_info_url global attribute.</dd><dt><span>variant_label :</span></dt><dd>r1i1p1f2</dd><dt><span>EXPID :</span></dt><dd>CNRM-CM6-1_abrupt-4xCO2_r1i1p1f2</dd><dt><span>CMIP6_CV_version :</span></dt><dd>cv=6.2.3.0-7-g2019642</dd><dt><span>dr2xml_md5sum :</span></dt><dd>f996a989d4bc796959fe96cfda3db969</dd><dt><span>xios_commit :</span></dt><dd>1442-shuffle</dd><dt><span>nemo_gelato_commit :</span></dt><dd>49095b3accd5d4c_6524fe19b00467a</dd><dt><span>arpege_minor_version :</span></dt><dd>6.3.1</dd><dt><span>intake_esm_varname :</span></dt><dd>[&#x27;deptho&#x27;]</dd><dt><span>intake_esm_dataset_key :</span></dt><dd>CMIP6.CNRM-CERFACS.CNRM-CM6-1.abrupt-4xCO2.Ofx</dd></dl></div></li></ul></div></div>"
      ],
      "text/plain": [
       "<xarray.Dataset>\n",
       "Dimensions:     (axis_nbounds: 2, lev: 75, member_id: 1, nvertex: 4, x: 362, y: 294)\n",
       "Coordinates:\n",
       "    lat         (y, x) float64 dask.array<chunksize=(294, 362), meta=np.ndarray>\n",
       "    lon         (y, x) float64 dask.array<chunksize=(294, 362), meta=np.ndarray>\n",
       "  * lev         (lev) float64 0.5058 1.556 2.668 ... 5.698e+03 5.902e+03\n",
       "  * member_id   (member_id) <U8 'r1i1p1f2'\n",
       "Dimensions without coordinates: axis_nbounds, nvertex, x, y\n",
       "Data variables:\n",
       "    bounds_lon  (y, x, nvertex) float64 dask.array<chunksize=(294, 362, 4), meta=np.ndarray>\n",
       "    bounds_lat  (y, x, nvertex) float64 dask.array<chunksize=(294, 362, 4), meta=np.ndarray>\n",
       "    lev_bounds  (lev, axis_nbounds) float64 dask.array<chunksize=(75, 2), meta=np.ndarray>\n",
       "    deptho      (member_id, lev, y, x) float32 dask.array<chunksize=(1, 75, 294, 362), meta=np.ndarray>\n",
       "Attributes: (12/55)\n",
       "    name:                    /scratch/utmp/ftdir/voldoire/eclis/transfers/CNR...\n",
       "    Conventions:             CF-1.7 CMIP-6.2\n",
       "    creation_date:           2018-04-06T22:13:45Z\n",
       "    tracking_id:             hdl:21.14100/93a7b771-33e9-44e0-b667-13fbf16f7dd0\n",
       "    description:             DECK: abrupt-4xCO2\n",
       "    title:                   CNRM-CM6-1 model output prepared for CMIP6 / CMI...\n",
       "    ...                      ...\n",
       "    dr2xml_md5sum:           f996a989d4bc796959fe96cfda3db969\n",
       "    xios_commit:             1442-shuffle\n",
       "    nemo_gelato_commit:      49095b3accd5d4c_6524fe19b00467a\n",
       "    arpege_minor_version:    6.3.1\n",
       "    intake_esm_varname:      ['deptho']\n",
       "    intake_esm_dataset_key:  CMIP6.CNRM-CERFACS.CNRM-CM6-1.abrupt-4xCO2.Ofx"
      ]
     },
     "execution_count": 19,
     "metadata": {},
     "output_type": "execute_result"
    }
   ],
   "source": [
    "xr_Ofx"
   ]
  },
  {
   "cell_type": "code",
   "execution_count": 20,
   "metadata": {},
   "outputs": [
    {
     "data": {
      "text/plain": [
       "(294, 362)"
      ]
     },
     "execution_count": 20,
     "metadata": {},
     "output_type": "execute_result"
    }
   ],
   "source": [
    "lat = xr_Ofx.lat\n",
    "lat.shape"
   ]
  },
  {
   "cell_type": "code",
   "execution_count": 21,
   "metadata": {},
   "outputs": [],
   "source": [
    "lon = xr_Ofx.lon"
   ]
  },
  {
   "cell_type": "code",
   "execution_count": 64,
   "metadata": {},
   "outputs": [
    {
     "data": {
      "text/plain": [
       "(294, 362)"
      ]
     },
     "execution_count": 64,
     "metadata": {},
     "output_type": "execute_result"
    }
   ],
   "source": [
    "deptho = xr_Ofx.deptho[0,:,:,:].max(axis=0)\n",
    "deptho.shape"
   ]
  },
  {
   "cell_type": "code",
   "execution_count": 50,
   "metadata": {},
   "outputs": [],
   "source": [
    "np.savez(str(model_name) +\"_Ofx_lat_lon_deptho.npz\", lat =lat ,lon= lon, deptho = deptho)"
   ]
  },
  {
   "cell_type": "markdown",
   "metadata": {},
   "source": [
    "## Retrieving catalogs"
   ]
  },
  {
   "cell_type": "code",
   "execution_count": 24,
   "metadata": {},
   "outputs": [],
   "source": [
    "cat_Omon_tauuo = col.search(**query_Omon_tauuo)\n",
    "cat_Omon_tauuo_lat = latest_version(cat_Omon_tauuo)\n",
    "\n",
    "cat_Omon_tauvo = col.search(**query_Omon_tauvo)\n",
    "cat_Omon_tauvo_lat = latest_version(cat_Omon_tauvo)\n",
    "\n",
    "cat_Omon_zos = col.search(**query_Omon_zos)\n",
    "cat_Omon_zos_lat = latest_version(cat_Omon_zos)\n"
   ]
  },
  {
   "cell_type": "code",
   "execution_count": 30,
   "metadata": {},
   "outputs": [],
   "source": [
    "\n",
    "cat_Omon_tauuo_latest = intake.open_esm_datastore(cat_Omon_tauuo_lat,esmcol_data=esmcol_data)\n",
    "cat_Omon_tauvo_latest = intake.open_esm_datastore(cat_Omon_tauvo_lat,esmcol_data=esmcol_data)\n",
    "cat_Omon_zos_latest = intake.open_esm_datastore(cat_Omon_zos_lat,esmcol_data=esmcol_data)\n"
   ]
  },
  {
   "cell_type": "code",
   "execution_count": 31,
   "metadata": {},
   "outputs": [
    {
     "name": "stdout",
     "output_type": "stream",
     "text": [
      "\n",
      "--> The keys in the returned dictionary of datasets are constructed as follows:\n",
      "\t'project.institution_id.source_id.experiment_id.table_id'\n"
     ]
    },
    {
     "data": {
      "text/html": [
       "\n",
       "    <div>\n",
       "        <style>\n",
       "            /* Turns off some styling */\n",
       "            progress {\n",
       "                /* gets rid of default border in Firefox and Opera. */\n",
       "                border: none;\n",
       "                /* Needs to be in here for Safari polyfill so background images work as expected. */\n",
       "                background-size: auto;\n",
       "            }\n",
       "            .progress-bar-interrupted, .progress-bar-interrupted::-webkit-progress-bar {\n",
       "                background: #F44336;\n",
       "            }\n",
       "        </style>\n",
       "      <progress value='3' class='' max='3' style='width:300px; height:20px; vertical-align: middle;'></progress>\n",
       "      100.00% [3/3 00:40<00:00]\n",
       "    </div>\n",
       "    "
      ],
      "text/plain": [
       "<IPython.core.display.HTML object>"
      ]
     },
     "metadata": {},
     "output_type": "display_data"
    }
   ],
   "source": [
    "set_dict_zos = cat_Omon_zos_latest.to_dataset_dict(cdf_kwargs={'decode_times': True,'use_cftime': True,'chunks': {'time': 20}}, storage_options={'anon':True})"
   ]
  },
  {
   "cell_type": "code",
   "execution_count": 32,
   "metadata": {},
   "outputs": [
    {
     "name": "stdout",
     "output_type": "stream",
     "text": [
      "\n",
      "--> The keys in the returned dictionary of datasets are constructed as follows:\n",
      "\t'project.institution_id.source_id.experiment_id.table_id'\n"
     ]
    },
    {
     "data": {
      "text/html": [
       "\n",
       "    <div>\n",
       "        <style>\n",
       "            /* Turns off some styling */\n",
       "            progress {\n",
       "                /* gets rid of default border in Firefox and Opera. */\n",
       "                border: none;\n",
       "                /* Needs to be in here for Safari polyfill so background images work as expected. */\n",
       "                background-size: auto;\n",
       "            }\n",
       "            .progress-bar-interrupted, .progress-bar-interrupted::-webkit-progress-bar {\n",
       "                background: #F44336;\n",
       "            }\n",
       "        </style>\n",
       "      <progress value='3' class='' max='3' style='width:300px; height:20px; vertical-align: middle;'></progress>\n",
       "      100.00% [3/3 00:31<00:00]\n",
       "    </div>\n",
       "    "
      ],
      "text/plain": [
       "<IPython.core.display.HTML object>"
      ]
     },
     "metadata": {},
     "output_type": "display_data"
    },
    {
     "name": "stdout",
     "output_type": "stream",
     "text": [
      "\n",
      "--> The keys in the returned dictionary of datasets are constructed as follows:\n",
      "\t'project.institution_id.source_id.experiment_id.table_id'\n"
     ]
    },
    {
     "data": {
      "text/html": [
       "\n",
       "    <div>\n",
       "        <style>\n",
       "            /* Turns off some styling */\n",
       "            progress {\n",
       "                /* gets rid of default border in Firefox and Opera. */\n",
       "                border: none;\n",
       "                /* Needs to be in here for Safari polyfill so background images work as expected. */\n",
       "                background-size: auto;\n",
       "            }\n",
       "            .progress-bar-interrupted, .progress-bar-interrupted::-webkit-progress-bar {\n",
       "                background: #F44336;\n",
       "            }\n",
       "        </style>\n",
       "      <progress value='3' class='' max='3' style='width:300px; height:20px; vertical-align: middle;'></progress>\n",
       "      100.00% [3/3 00:45<00:00]\n",
       "    </div>\n",
       "    "
      ],
      "text/plain": [
       "<IPython.core.display.HTML object>"
      ]
     },
     "metadata": {},
     "output_type": "display_data"
    }
   ],
   "source": [
    "set_dict_tauuo = cat_Omon_tauuo_latest.to_dataset_dict(cdf_kwargs={'decode_times': True,'use_cftime': True,'chunks': {'time': 20}}, storage_options={'anon':True})\n",
    "set_dict_tauvo = cat_Omon_tauvo_latest.to_dataset_dict(cdf_kwargs={'decode_times': True,'use_cftime': True,'chunks': {'time': 20}}, storage_options={'anon':True})"
   ]
  },
  {
   "cell_type": "code",
   "execution_count": 33,
   "metadata": {},
   "outputs": [
    {
     "data": {
      "text/plain": [
       "['CMIP6.CNRM-CERFACS.CNRM-CM6-1.historical.Omon',\n",
       " 'CMIP6.CNRM-CERFACS.CNRM-CM6-1.abrupt-4xCO2.Omon',\n",
       " 'CMIP6.CNRM-CERFACS.CNRM-CM6-1.1pctCO2.Omon']"
      ]
     },
     "execution_count": 33,
     "metadata": {},
     "output_type": "execute_result"
    }
   ],
   "source": [
    "list(set_dict_zos.keys())"
   ]
  },
  {
   "cell_type": "code",
   "execution_count": 34,
   "metadata": {},
   "outputs": [
    {
     "data": {
      "text/plain": [
       "['CMIP6.CNRM-CERFACS.CNRM-CM6-1.abrupt-4xCO2.Omon',\n",
       " 'CMIP6.CNRM-CERFACS.CNRM-CM6-1.historical.Omon',\n",
       " 'CMIP6.CNRM-CERFACS.CNRM-CM6-1.1pctCO2.Omon']"
      ]
     },
     "execution_count": 34,
     "metadata": {},
     "output_type": "execute_result"
    }
   ],
   "source": [
    "list(set_dict_tauuo.keys())"
   ]
  },
  {
   "cell_type": "code",
   "execution_count": 35,
   "metadata": {},
   "outputs": [
    {
     "data": {
      "text/plain": [
       "['CMIP6.CNRM-CERFACS.CNRM-CM6-1.historical.Omon',\n",
       " 'CMIP6.CNRM-CERFACS.CNRM-CM6-1.1pctCO2.Omon',\n",
       " 'CMIP6.CNRM-CERFACS.CNRM-CM6-1.abrupt-4xCO2.Omon']"
      ]
     },
     "execution_count": 35,
     "metadata": {},
     "output_type": "execute_result"
    }
   ],
   "source": [
    "list(set_dict_tauvo.keys())"
   ]
  },
  {
   "cell_type": "code",
   "execution_count": 36,
   "metadata": {},
   "outputs": [],
   "source": [
    "#key assignment for each experiment\n",
    "for i in list(set_dict_zos.keys()):\n",
    "    if \"historical\" in i:\n",
    "        historical = i\n",
    "    if \"abrupt\" in i:\n",
    "        abrupt = i\n",
    "    if \"1pctCO2\" in i:\n",
    "        oneCO2 = i"
   ]
  },
  {
   "cell_type": "markdown",
   "metadata": {},
   "source": [
    "### Preparing the features for the EnsembleMLP"
   ]
  },
  {
   "cell_type": "code",
   "execution_count": 37,
   "metadata": {},
   "outputs": [],
   "source": [
    "def grad(d,y,x):\n",
    "    \"Returns a three point derivative.\"\n",
    "    g0, g1 = np.gradient(d)\n",
    "    grady=g0/y\n",
    "    gradx=g1/x\n",
    "    return grady, gradx"
   ]
  },
  {
   "cell_type": "code",
   "execution_count": 66,
   "metadata": {},
   "outputs": [],
   "source": [
    "Ofx = deptho\n",
    "####\n",
    "lonRoll = np.roll(Ofx.lon.values, axis=1, shift=-1)\n",
    "Londiff = lonRoll - Ofx.lon.values\n",
    "latDiff=1.111774765625000e+05\n",
    "latY=np.gradient(Ofx.lat.values, axis=0)*latDiff\n",
    "lonX=np.abs(np.cos(Ofx.lat.values*np.pi/180))*latDiff*Londiff\n",
    "####\n",
    "Omega=7.2921e-5\n",
    "f=(2*Omega*np.sin(Ofx.lat.values*np.pi/180))"
   ]
  },
  {
   "cell_type": "code",
   "execution_count": 67,
   "metadata": {},
   "outputs": [
    {
     "name": "stderr",
     "output_type": "stream",
     "text": [
      "/home/jovyan/my-conda-envs/enso_ml/lib/python3.9/site-packages/sklearn/base.py:310: UserWarning: Trying to unpickle estimator StandardScaler from version 0.22.2.post1 when using version 0.24.2. This might lead to breaking code or invalid results. Use at your own risk.\n",
      "  warnings.warn(\n"
     ]
    }
   ],
   "source": [
    "from pickle import load\n",
    "#######!!!!!! it might ask you to use scikit-learn 0.22.2.post1 !!!!!! check if you get the good .mean_ and .scale_\n",
    "#(array([-2.20681035e-11,  7.85894841e-03,  1.92149912e-08,  1.38805767e-07,\n",
    "#         3.96657293e+03, -1.45941754e-04,  5.42086609e-04, -1.21754470e-05]),\n",
    "# array([1.46399667e-10, 7.07289355e-01, 1.89893314e-07, 4.55081599e-07,\n",
    "#        1.44475515e+03, 4.87804804e-03, 4.64697134e-03, 9.54868121e-05]))\n",
    "scaler = load(open(f\"{system_dir}/DNN4Cli/THOR/ApplicationOnCMIPModels/scaler_v1.pkl\", 'rb'))"
   ]
  },
  {
   "cell_type": "code",
   "execution_count": 68,
   "metadata": {},
   "outputs": [
    {
     "data": {
      "text/plain": [
       "(array([-2.20681035e-11,  7.85894841e-03,  1.92149912e-08,  1.38805767e-07,\n",
       "         3.96657293e+03, -1.45941754e-04,  5.42086609e-04, -1.21754470e-05]),\n",
       " array([1.46399667e-10, 7.07289355e-01, 1.89893314e-07, 4.55081599e-07,\n",
       "        1.44475515e+03, 4.87804804e-03, 4.64697134e-03, 9.54868121e-05]))"
      ]
     },
     "execution_count": 68,
     "metadata": {},
     "output_type": "execute_result"
    }
   ],
   "source": [
    "scaler.mean_, scaler.scale_"
   ]
  },
  {
   "cell_type": "code",
   "execution_count": 69,
   "metadata": {},
   "outputs": [],
   "source": [
    "from matplotlib.colors import ListedColormap\n",
    "mycmap = ListedColormap(['royalblue', 'cyan','yellow', 'orange', 'magenta', 'red'])"
   ]
  },
  {
   "cell_type": "code",
   "execution_count": 70,
   "metadata": {},
   "outputs": [],
   "source": [
    "ecco_label = np.load(f\"{system_dir}/DNN4Cli/THOR/ApplicationOnCMIPModels/eccolabel.npy\")"
   ]
  },
  {
   "cell_type": "code",
   "execution_count": 71,
   "metadata": {},
   "outputs": [],
   "source": [
    "def list_of_years(end_year, duration, chunk_years):\n",
    "    \"This function create a list of chuncks years for a certain duration\"\n",
    "    \"ex: list of 20 chunck years for a durationof 100 years\"\n",
    "    lst = []\n",
    "    year = end_year\n",
    "    for i in range(duration//chunk_years):\n",
    "        lst.append(str(\"{:0>4}\".format(year)))\n",
    "        year= (year - chunk_years+1)\n",
    "        lst.append(str(\"{:0>4}\".format(year)))\n",
    "        year= year-1\n",
    "      \n",
    "    lst.reverse()\n",
    "    return lst"
   ]
  },
  {
   "cell_type": "markdown",
   "metadata": {},
   "source": [
    "## Running Historical"
   ]
  },
  {
   "cell_type": "markdown",
   "metadata": {},
   "source": [
    "## Historical Data for zos,tauuo, and tauvo"
   ]
  },
  {
   "cell_type": "code",
   "execution_count": 72,
   "metadata": {},
   "outputs": [],
   "source": [
    "xr_zos_Histo = set_dict_zos[historical]\n",
    "xr_tauuo_Histo = set_dict_tauuo[historical]\n",
    "xr_tauvo_Histo = set_dict_tauvo[historical]"
   ]
  },
  {
   "cell_type": "code",
   "execution_count": 73,
   "metadata": {},
   "outputs": [],
   "source": [
    "#xr_zos_Histo"
   ]
  },
  {
   "cell_type": "code",
   "execution_count": 74,
   "metadata": {},
   "outputs": [
    {
     "data": {
      "text/html": [
       "<div>\n",
       "<style scoped>\n",
       "    .dataframe tbody tr th:only-of-type {\n",
       "        vertical-align: middle;\n",
       "    }\n",
       "\n",
       "    .dataframe tbody tr th {\n",
       "        vertical-align: top;\n",
       "    }\n",
       "\n",
       "    .dataframe thead th {\n",
       "        text-align: right;\n",
       "    }\n",
       "</style>\n",
       "<table border=\"1\" class=\"dataframe\">\n",
       "  <thead>\n",
       "    <tr style=\"text-align: right;\">\n",
       "      <th></th>\n",
       "      <th>time</th>\n",
       "    </tr>\n",
       "    <tr>\n",
       "      <th>time</th>\n",
       "      <th></th>\n",
       "    </tr>\n",
       "  </thead>\n",
       "  <tbody>\n",
       "    <tr>\n",
       "      <th>1850-01-16 12:00:00</th>\n",
       "      <td>1850-01-16 12:00:00</td>\n",
       "    </tr>\n",
       "    <tr>\n",
       "      <th>1850-02-15 00:00:00</th>\n",
       "      <td>1850-02-15 00:00:00</td>\n",
       "    </tr>\n",
       "    <tr>\n",
       "      <th>1850-03-16 12:00:00</th>\n",
       "      <td>1850-03-16 12:00:00</td>\n",
       "    </tr>\n",
       "    <tr>\n",
       "      <th>1850-04-16 00:00:00</th>\n",
       "      <td>1850-04-16 00:00:00</td>\n",
       "    </tr>\n",
       "    <tr>\n",
       "      <th>1850-05-16 12:00:00</th>\n",
       "      <td>1850-05-16 12:00:00</td>\n",
       "    </tr>\n",
       "    <tr>\n",
       "      <th>...</th>\n",
       "      <td>...</td>\n",
       "    </tr>\n",
       "    <tr>\n",
       "      <th>2014-08-16 12:00:00</th>\n",
       "      <td>2014-08-16 12:00:00</td>\n",
       "    </tr>\n",
       "    <tr>\n",
       "      <th>2014-09-16 00:00:00</th>\n",
       "      <td>2014-09-16 00:00:00</td>\n",
       "    </tr>\n",
       "    <tr>\n",
       "      <th>2014-10-16 12:00:00</th>\n",
       "      <td>2014-10-16 12:00:00</td>\n",
       "    </tr>\n",
       "    <tr>\n",
       "      <th>2014-11-16 00:00:00</th>\n",
       "      <td>2014-11-16 00:00:00</td>\n",
       "    </tr>\n",
       "    <tr>\n",
       "      <th>2014-12-16 12:00:00</th>\n",
       "      <td>2014-12-16 12:00:00</td>\n",
       "    </tr>\n",
       "  </tbody>\n",
       "</table>\n",
       "<p>1980 rows × 1 columns</p>\n",
       "</div>"
      ],
      "text/plain": [
       "                                    time\n",
       "time                                    \n",
       "1850-01-16 12:00:00  1850-01-16 12:00:00\n",
       "1850-02-15 00:00:00  1850-02-15 00:00:00\n",
       "1850-03-16 12:00:00  1850-03-16 12:00:00\n",
       "1850-04-16 00:00:00  1850-04-16 00:00:00\n",
       "1850-05-16 12:00:00  1850-05-16 12:00:00\n",
       "...                                  ...\n",
       "2014-08-16 12:00:00  2014-08-16 12:00:00\n",
       "2014-09-16 00:00:00  2014-09-16 00:00:00\n",
       "2014-10-16 12:00:00  2014-10-16 12:00:00\n",
       "2014-11-16 00:00:00  2014-11-16 00:00:00\n",
       "2014-12-16 12:00:00  2014-12-16 12:00:00\n",
       "\n",
       "[1980 rows x 1 columns]"
      ]
     },
     "execution_count": 74,
     "metadata": {},
     "output_type": "execute_result"
    }
   ],
   "source": [
    "#Checking the time period for this model and use the past years 150 for your predictions\n",
    "xr_zos_Histo.zos.time.to_dataframe()"
   ]
  },
  {
   "cell_type": "code",
   "execution_count": 75,
   "metadata": {},
   "outputs": [
    {
     "name": "stdout",
     "output_type": "stream",
     "text": [
      "['1872', '1891', '1892', '1911', '1912', '1931', '1932', '1951', '1952', '1971', '1972', '1991', '1992', '2011']\n"
     ]
    }
   ],
   "source": [
    "#for historical experiements\n",
    "listyears = list_of_years(end_year = 2011, duration = 140, chunk_years=20)\n",
    "print(listyears)"
   ]
  },
  {
   "cell_type": "markdown",
   "metadata": {},
   "source": [
    "## Making some plots"
   ]
  },
  {
   "cell_type": "code",
   "execution_count": 76,
   "metadata": {},
   "outputs": [
    {
     "name": "stderr",
     "output_type": "stream",
     "text": [
      "/home/jovyan/my-conda-envs/enso_ml/lib/python3.9/site-packages/dask/array/numpy_compat.py:39: RuntimeWarning: invalid value encountered in true_divide\n",
      "  x = np.divide(x1, x2, out)\n",
      "/home/jovyan/my-conda-envs/enso_ml/lib/python3.9/site-packages/dask/utils.py:34: RuntimeWarning: All-NaN slice encountered\n",
      "  return func(*args, **kwargs)\n",
      "/home/jovyan/my-conda-envs/enso_ml/lib/python3.9/site-packages/dask/core.py:121: RuntimeWarning: All-NaN slice encountered\n",
      "  return func(*(_execute_task(a, cache) for a in args))\n",
      "/home/jovyan/my-conda-envs/enso_ml/lib/python3.9/site-packages/dask/array/numpy_compat.py:39: RuntimeWarning: invalid value encountered in true_divide\n",
      "  x = np.divide(x1, x2, out)\n",
      "/home/jovyan/my-conda-envs/enso_ml/lib/python3.9/site-packages/dask/array/numpy_compat.py:39: RuntimeWarning: invalid value encountered in true_divide\n",
      "  x = np.divide(x1, x2, out)\n"
     ]
    },
    {
     "name": "stdout",
     "output_type": "stream",
     "text": [
      "13.7 s ± 0 ns per loop (mean ± std. dev. of 1 run, 1 loop each)\n"
     ]
    },
    {
     "data": {
      "image/png": "[encoded data removed]",
      "text/plain": [
       "<Figure size 1080x1080 with 8 Axes>"
      ]
     },
     "metadata": {
      "needs_background": "light"
     },
     "output_type": "display_data"
    }
   ],
   "source": [
    "%%timeit -n1 -r1\n",
    "plt.figure(figsize=(15,15))\n",
    "plt.subplot(2,2,1)\n",
    "xr_zos_Histo.zos.sel(time=slice(listyears[-2], listyears[-1])).mean(axis=1).plot()\n",
    "\n",
    "plt.subplot(2,2,2)\n",
    "deptho.plot()\n",
    "\n",
    "plt.subplot(2,2,3)\n",
    "xr_tauuo_Histo.tauuo.sel(time=slice(listyears[-2], listyears[-1])).mean(axis=1).plot()\n",
    "\n",
    "plt.subplot(2,2,4)\n",
    "xr_tauvo_Histo.tauvo.sel(time=slice(listyears[-2], listyears[-1])).mean(axis=1).plot()"
   ]
  },
  {
   "cell_type": "code",
   "execution_count": null,
   "metadata": {},
   "outputs": [
    {
     "name": "stdout",
     "output_type": "stream",
     "text": [
      "18721891\n"
     ]
    },
    {
     "name": "stderr",
     "output_type": "stream",
     "text": [
      "/home/jovyan/my-conda-envs/enso_ml/lib/python3.9/site-packages/dask/array/numpy_compat.py:39: RuntimeWarning: invalid value encountered in true_divide\n",
      "  x = np.divide(x1, x2, out)\n",
      "/home/jovyan/my-conda-envs/enso_ml/lib/python3.9/site-packages/dask/array/numpy_compat.py:39: RuntimeWarning: invalid value encountered in true_divide\n",
      "  x = np.divide(x1, x2, out)\n",
      "/home/jovyan/my-conda-envs/enso_ml/lib/python3.9/site-packages/dask/array/numpy_compat.py:39: RuntimeWarning: invalid value encountered in true_divide\n",
      "  x = np.divide(x1, x2, out)\n"
     ]
    },
    {
     "name": "stdout",
     "output_type": "stream",
     "text": [
      "Calculate grads\n"
     ]
    },
    {
     "name": "stderr",
     "output_type": "stream",
     "text": [
      "/home/jovyan/my-conda-envs/enso_ml/lib/python3.9/site-packages/dask/utils.py:34: RuntimeWarning: All-NaN slice encountered\n",
      "  return func(*args, **kwargs)\n",
      "/home/jovyan/my-conda-envs/enso_ml/lib/python3.9/site-packages/dask/core.py:121: RuntimeWarning: All-NaN slice encountered\n",
      "  return func(*(_execute_task(a, cache) for a in args))\n"
     ]
    },
    {
     "name": "stdout",
     "output_type": "stream",
     "text": [
      "Calculate CurlTau\n",
      "Calculate missindx\n",
      "Creating TotalDataset\n"
     ]
    },
    {
     "name": "stderr",
     "output_type": "stream",
     "text": [
      "/home/jovyan/my-conda-envs/enso_ml/lib/python3.9/site-packages/dask/utils.py:34: RuntimeWarning: All-NaN slice encountered\n",
      "  return func(*args, **kwargs)\n",
      "/home/jovyan/my-conda-envs/enso_ml/lib/python3.9/site-packages/dask/core.py:121: RuntimeWarning: All-NaN slice encountered\n",
      "  return func(*(_execute_task(a, cache) for a in args))\n",
      "/home/jovyan/my-conda-envs/enso_ml/lib/python3.9/site-packages/dask/utils.py:34: RuntimeWarning: All-NaN slice encountered\n",
      "  return func(*args, **kwargs)\n",
      "/home/jovyan/my-conda-envs/enso_ml/lib/python3.9/site-packages/dask/core.py:121: RuntimeWarning: All-NaN slice encountered\n",
      "  return func(*(_execute_task(a, cache) for a in args))\n",
      "/home/jovyan/my-conda-envs/enso_ml/lib/python3.9/site-packages/dask/utils.py:34: RuntimeWarning: All-NaN slice encountered\n",
      "  return func(*args, **kwargs)\n",
      "/home/jovyan/my-conda-envs/enso_ml/lib/python3.9/site-packages/dask/core.py:121: RuntimeWarning: All-NaN slice encountered\n",
      "  return func(*(_execute_task(a, cache) for a in args))\n",
      "/home/jovyan/my-conda-envs/enso_ml/lib/python3.9/site-packages/dask/utils.py:34: RuntimeWarning: All-NaN slice encountered\n",
      "  return func(*args, **kwargs)\n",
      "/home/jovyan/my-conda-envs/enso_ml/lib/python3.9/site-packages/dask/core.py:121: RuntimeWarning: All-NaN slice encountered\n",
      "  return func(*(_execute_task(a, cache) for a in args))\n",
      "/home/jovyan/my-conda-envs/enso_ml/lib/python3.9/site-packages/dask/utils.py:34: RuntimeWarning: All-NaN slice encountered\n",
      "  return func(*args, **kwargs)\n",
      "/home/jovyan/my-conda-envs/enso_ml/lib/python3.9/site-packages/dask/core.py:121: RuntimeWarning: All-NaN slice encountered\n",
      "  return func(*(_execute_task(a, cache) for a in args))\n",
      "/home/jovyan/my-conda-envs/enso_ml/lib/python3.9/site-packages/dask/utils.py:34: RuntimeWarning: All-NaN slice encountered\n",
      "  return func(*args, **kwargs)\n",
      "/home/jovyan/my-conda-envs/enso_ml/lib/python3.9/site-packages/dask/core.py:121: RuntimeWarning: All-NaN slice encountered\n",
      "  return func(*(_execute_task(a, cache) for a in args))\n",
      "/home/jovyan/my-conda-envs/enso_ml/lib/python3.9/site-packages/dask/utils.py:34: RuntimeWarning: All-NaN slice encountered\n",
      "  return func(*args, **kwargs)\n",
      "/home/jovyan/my-conda-envs/enso_ml/lib/python3.9/site-packages/dask/core.py:121: RuntimeWarning: All-NaN slice encountered\n",
      "  return func(*(_execute_task(a, cache) for a in args))\n",
      "/home/jovyan/my-conda-envs/enso_ml/lib/python3.9/site-packages/dask/utils.py:34: RuntimeWarning: All-NaN slice encountered\n",
      "  return func(*args, **kwargs)\n",
      "/home/jovyan/my-conda-envs/enso_ml/lib/python3.9/site-packages/dask/core.py:121: RuntimeWarning: All-NaN slice encountered\n",
      "  return func(*(_execute_task(a, cache) for a in args))\n"
     ]
    },
    {
     "name": "stdout",
     "output_type": "stream",
     "text": [
      "NN pred\n"
     ]
    },
    {
     "name": "stderr",
     "output_type": "stream",
     "text": [
      "/home/jovyan/my-conda-envs/enso_ml/lib/python3.9/site-packages/dask/utils.py:34: RuntimeWarning: All-NaN slice encountered\n",
      "  return func(*args, **kwargs)\n",
      "/home/jovyan/my-conda-envs/enso_ml/lib/python3.9/site-packages/dask/core.py:121: RuntimeWarning: All-NaN slice encountered\n",
      "  return func(*(_execute_task(a, cache) for a in args))\n"
     ]
    },
    {
     "name": "stdout",
     "output_type": "stream",
     "text": [
      "18921911\n"
     ]
    },
    {
     "name": "stderr",
     "output_type": "stream",
     "text": [
      "/home/jovyan/my-conda-envs/enso_ml/lib/python3.9/site-packages/dask/array/numpy_compat.py:39: RuntimeWarning: invalid value encountered in true_divide\n",
      "  x = np.divide(x1, x2, out)\n",
      "/home/jovyan/my-conda-envs/enso_ml/lib/python3.9/site-packages/dask/array/numpy_compat.py:39: RuntimeWarning: invalid value encountered in true_divide\n",
      "  x = np.divide(x1, x2, out)\n",
      "/home/jovyan/my-conda-envs/enso_ml/lib/python3.9/site-packages/dask/array/numpy_compat.py:39: RuntimeWarning: invalid value encountered in true_divide\n",
      "  x = np.divide(x1, x2, out)\n"
     ]
    },
    {
     "name": "stdout",
     "output_type": "stream",
     "text": [
      "Calculate grads\n"
     ]
    },
    {
     "name": "stderr",
     "output_type": "stream",
     "text": [
      "/home/jovyan/my-conda-envs/enso_ml/lib/python3.9/site-packages/dask/utils.py:34: RuntimeWarning: All-NaN slice encountered\n",
      "  return func(*args, **kwargs)\n",
      "/home/jovyan/my-conda-envs/enso_ml/lib/python3.9/site-packages/dask/core.py:121: RuntimeWarning: All-NaN slice encountered\n",
      "  return func(*(_execute_task(a, cache) for a in args))\n"
     ]
    },
    {
     "name": "stdout",
     "output_type": "stream",
     "text": [
      "Calculate CurlTau\n",
      "Calculate missindx\n",
      "Creating TotalDataset\n"
     ]
    },
    {
     "name": "stderr",
     "output_type": "stream",
     "text": [
      "/home/jovyan/my-conda-envs/enso_ml/lib/python3.9/site-packages/dask/utils.py:34: RuntimeWarning: All-NaN slice encountered\n",
      "  return func(*args, **kwargs)\n",
      "/home/jovyan/my-conda-envs/enso_ml/lib/python3.9/site-packages/dask/core.py:121: RuntimeWarning: All-NaN slice encountered\n",
      "  return func(*(_execute_task(a, cache) for a in args))\n",
      "/home/jovyan/my-conda-envs/enso_ml/lib/python3.9/site-packages/dask/utils.py:34: RuntimeWarning: All-NaN slice encountered\n",
      "  return func(*args, **kwargs)\n",
      "/home/jovyan/my-conda-envs/enso_ml/lib/python3.9/site-packages/dask/core.py:121: RuntimeWarning: All-NaN slice encountered\n",
      "  return func(*(_execute_task(a, cache) for a in args))\n",
      "/home/jovyan/my-conda-envs/enso_ml/lib/python3.9/site-packages/dask/utils.py:34: RuntimeWarning: All-NaN slice encountered\n",
      "  return func(*args, **kwargs)\n",
      "/home/jovyan/my-conda-envs/enso_ml/lib/python3.9/site-packages/dask/core.py:121: RuntimeWarning: All-NaN slice encountered\n",
      "  return func(*(_execute_task(a, cache) for a in args))\n",
      "/home/jovyan/my-conda-envs/enso_ml/lib/python3.9/site-packages/dask/utils.py:34: RuntimeWarning: All-NaN slice encountered\n",
      "  return func(*args, **kwargs)\n",
      "/home/jovyan/my-conda-envs/enso_ml/lib/python3.9/site-packages/dask/core.py:121: RuntimeWarning: All-NaN slice encountered\n",
      "  return func(*(_execute_task(a, cache) for a in args))\n",
      "/home/jovyan/my-conda-envs/enso_ml/lib/python3.9/site-packages/dask/utils.py:34: RuntimeWarning: All-NaN slice encountered\n",
      "  return func(*args, **kwargs)\n",
      "/home/jovyan/my-conda-envs/enso_ml/lib/python3.9/site-packages/dask/core.py:121: RuntimeWarning: All-NaN slice encountered\n",
      "  return func(*(_execute_task(a, cache) for a in args))\n",
      "/home/jovyan/my-conda-envs/enso_ml/lib/python3.9/site-packages/dask/utils.py:34: RuntimeWarning: All-NaN slice encountered\n",
      "  return func(*args, **kwargs)\n",
      "/home/jovyan/my-conda-envs/enso_ml/lib/python3.9/site-packages/dask/core.py:121: RuntimeWarning: All-NaN slice encountered\n",
      "  return func(*(_execute_task(a, cache) for a in args))\n",
      "/home/jovyan/my-conda-envs/enso_ml/lib/python3.9/site-packages/dask/utils.py:34: RuntimeWarning: All-NaN slice encountered\n",
      "  return func(*args, **kwargs)\n",
      "/home/jovyan/my-conda-envs/enso_ml/lib/python3.9/site-packages/dask/core.py:121: RuntimeWarning: All-NaN slice encountered\n",
      "  return func(*(_execute_task(a, cache) for a in args))\n",
      "/home/jovyan/my-conda-envs/enso_ml/lib/python3.9/site-packages/dask/utils.py:34: RuntimeWarning: All-NaN slice encountered\n",
      "  return func(*args, **kwargs)\n",
      "/home/jovyan/my-conda-envs/enso_ml/lib/python3.9/site-packages/dask/core.py:121: RuntimeWarning: All-NaN slice encountered\n",
      "  return func(*(_execute_task(a, cache) for a in args))\n"
     ]
    },
    {
     "name": "stdout",
     "output_type": "stream",
     "text": [
      "NN pred\n"
     ]
    },
    {
     "name": "stderr",
     "output_type": "stream",
     "text": [
      "/home/jovyan/my-conda-envs/enso_ml/lib/python3.9/site-packages/dask/utils.py:34: RuntimeWarning: All-NaN slice encountered\n",
      "  return func(*args, **kwargs)\n",
      "/home/jovyan/my-conda-envs/enso_ml/lib/python3.9/site-packages/dask/core.py:121: RuntimeWarning: All-NaN slice encountered\n",
      "  return func(*(_execute_task(a, cache) for a in args))\n"
     ]
    },
    {
     "name": "stdout",
     "output_type": "stream",
     "text": [
      "19121931\n"
     ]
    },
    {
     "name": "stderr",
     "output_type": "stream",
     "text": [
      "/home/jovyan/my-conda-envs/enso_ml/lib/python3.9/site-packages/dask/array/numpy_compat.py:39: RuntimeWarning: invalid value encountered in true_divide\n",
      "  x = np.divide(x1, x2, out)\n",
      "/home/jovyan/my-conda-envs/enso_ml/lib/python3.9/site-packages/dask/array/numpy_compat.py:39: RuntimeWarning: invalid value encountered in true_divide\n",
      "  x = np.divide(x1, x2, out)\n",
      "/home/jovyan/my-conda-envs/enso_ml/lib/python3.9/site-packages/dask/array/numpy_compat.py:39: RuntimeWarning: invalid value encountered in true_divide\n",
      "  x = np.divide(x1, x2, out)\n"
     ]
    },
    {
     "name": "stdout",
     "output_type": "stream",
     "text": [
      "Calculate grads\n"
     ]
    },
    {
     "name": "stderr",
     "output_type": "stream",
     "text": [
      "/home/jovyan/my-conda-envs/enso_ml/lib/python3.9/site-packages/dask/utils.py:34: RuntimeWarning: All-NaN slice encountered\n",
      "  return func(*args, **kwargs)\n",
      "/home/jovyan/my-conda-envs/enso_ml/lib/python3.9/site-packages/dask/core.py:121: RuntimeWarning: All-NaN slice encountered\n",
      "  return func(*(_execute_task(a, cache) for a in args))\n"
     ]
    },
    {
     "name": "stdout",
     "output_type": "stream",
     "text": [
      "Calculate CurlTau\n",
      "Calculate missindx\n",
      "Creating TotalDataset\n"
     ]
    },
    {
     "name": "stderr",
     "output_type": "stream",
     "text": [
      "/home/jovyan/my-conda-envs/enso_ml/lib/python3.9/site-packages/dask/utils.py:34: RuntimeWarning: All-NaN slice encountered\n",
      "  return func(*args, **kwargs)\n",
      "/home/jovyan/my-conda-envs/enso_ml/lib/python3.9/site-packages/dask/core.py:121: RuntimeWarning: All-NaN slice encountered\n",
      "  return func(*(_execute_task(a, cache) for a in args))\n",
      "/home/jovyan/my-conda-envs/enso_ml/lib/python3.9/site-packages/dask/utils.py:34: RuntimeWarning: All-NaN slice encountered\n",
      "  return func(*args, **kwargs)\n",
      "/home/jovyan/my-conda-envs/enso_ml/lib/python3.9/site-packages/dask/core.py:121: RuntimeWarning: All-NaN slice encountered\n",
      "  return func(*(_execute_task(a, cache) for a in args))\n",
      "/home/jovyan/my-conda-envs/enso_ml/lib/python3.9/site-packages/dask/utils.py:34: RuntimeWarning: All-NaN slice encountered\n",
      "  return func(*args, **kwargs)\n",
      "/home/jovyan/my-conda-envs/enso_ml/lib/python3.9/site-packages/dask/core.py:121: RuntimeWarning: All-NaN slice encountered\n",
      "  return func(*(_execute_task(a, cache) for a in args))\n",
      "/home/jovyan/my-conda-envs/enso_ml/lib/python3.9/site-packages/dask/utils.py:34: RuntimeWarning: All-NaN slice encountered\n",
      "  return func(*args, **kwargs)\n",
      "/home/jovyan/my-conda-envs/enso_ml/lib/python3.9/site-packages/dask/core.py:121: RuntimeWarning: All-NaN slice encountered\n",
      "  return func(*(_execute_task(a, cache) for a in args))\n",
      "/home/jovyan/my-conda-envs/enso_ml/lib/python3.9/site-packages/dask/utils.py:34: RuntimeWarning: All-NaN slice encountered\n",
      "  return func(*args, **kwargs)\n",
      "/home/jovyan/my-conda-envs/enso_ml/lib/python3.9/site-packages/dask/core.py:121: RuntimeWarning: All-NaN slice encountered\n",
      "  return func(*(_execute_task(a, cache) for a in args))\n",
      "/home/jovyan/my-conda-envs/enso_ml/lib/python3.9/site-packages/dask/utils.py:34: RuntimeWarning: All-NaN slice encountered\n",
      "  return func(*args, **kwargs)\n",
      "/home/jovyan/my-conda-envs/enso_ml/lib/python3.9/site-packages/dask/core.py:121: RuntimeWarning: All-NaN slice encountered\n",
      "  return func(*(_execute_task(a, cache) for a in args))\n",
      "/home/jovyan/my-conda-envs/enso_ml/lib/python3.9/site-packages/dask/utils.py:34: RuntimeWarning: All-NaN slice encountered\n",
      "  return func(*args, **kwargs)\n",
      "/home/jovyan/my-conda-envs/enso_ml/lib/python3.9/site-packages/dask/core.py:121: RuntimeWarning: All-NaN slice encountered\n",
      "  return func(*(_execute_task(a, cache) for a in args))\n",
      "/home/jovyan/my-conda-envs/enso_ml/lib/python3.9/site-packages/dask/utils.py:34: RuntimeWarning: All-NaN slice encountered\n",
      "  return func(*args, **kwargs)\n",
      "/home/jovyan/my-conda-envs/enso_ml/lib/python3.9/site-packages/dask/core.py:121: RuntimeWarning: All-NaN slice encountered\n",
      "  return func(*(_execute_task(a, cache) for a in args))\n"
     ]
    },
    {
     "name": "stdout",
     "output_type": "stream",
     "text": [
      "NN pred\n"
     ]
    },
    {
     "name": "stderr",
     "output_type": "stream",
     "text": [
      "/home/jovyan/my-conda-envs/enso_ml/lib/python3.9/site-packages/dask/utils.py:34: RuntimeWarning: All-NaN slice encountered\n",
      "  return func(*args, **kwargs)\n",
      "/home/jovyan/my-conda-envs/enso_ml/lib/python3.9/site-packages/dask/core.py:121: RuntimeWarning: All-NaN slice encountered\n",
      "  return func(*(_execute_task(a, cache) for a in args))\n"
     ]
    },
    {
     "name": "stdout",
     "output_type": "stream",
     "text": [
      "19321951\n"
     ]
    }
   ],
   "source": [
    "#%%timeit -n1 -r1\n",
    "datapredicted_results_Histo = np.nan * np.zeros((7,)+Ofx.shape)\n",
    "for i in range(7):\n",
    "    \n",
    "    print(listyears[2*i]+listyears[2*i+1])\n",
    "    SSH20Mean = xr_zos_Histo.zos.isel(member_id=0).sel(time=slice(listyears[2*i], listyears[2*i+1])).mean(axis=0).values\n",
    "    TauUOMean = xr_tauuo_Histo.tauuo.isel(member_id=0).sel(time=slice(listyears[2*i], listyears[2*i+1])).mean(axis=0).values\n",
    "    TauVOMean = xr_tauvo_Histo.tauvo.isel(member_id=0).sel(time=slice(listyears[2*i], listyears[2*i+1])).mean(axis=0).values\n",
    "\n",
    "    ####\n",
    "    print('Calculate grads')\n",
    "    gradSSH_y, gradSSH_x = grad(SSH20Mean,latY,lonX)\n",
    "    gradOfx_y, gradOfx_x = grad(Ofx,latY,lonX)\n",
    "    gradUx_y, gradUx_x = grad(TauUOMean,latY,lonX)\n",
    "    gradUy_y, gradUy_x = grad(TauVOMean,latY,lonX)\n",
    "    ####\n",
    "    print('Calculate CurlTau')\n",
    "    curlTau =(gradUy_x-gradUx_y)/1032\n",
    "    \n",
    "    ####\n",
    "    print('Calculate missindx')\n",
    "    missingdataindex = np.isnan(curlTau*SSH20Mean*\n",
    "                                   gradSSH_x*gradSSH_y*\n",
    "                                   Ofx*gradOfx_x*\n",
    "                                   gradOfx_y*f)\n",
    "    ####\n",
    "    print('Creating TotalDataset')\n",
    "    TotalDataset = np.stack((curlTau[~missingdataindex],\n",
    "                         SSH20Mean[~missingdataindex],\n",
    "                         gradSSH_x[~missingdataindex],\n",
    "                         gradSSH_y[~missingdataindex],\n",
    "                         Ofx.values[~missingdataindex],\n",
    "                         gradOfx_x[~missingdataindex],\n",
    "                         gradOfx_y[~missingdataindex],\n",
    "                         f[~missingdataindex]),1)\n",
    "    ####\n",
    "    print('NN pred')\n",
    "    \n",
    "    datapredicted_results_vanilla_ensemble = np.nan * np.zeros((50,TotalDataset.shape[0],6))\n",
    "\n",
    "    for j in range(50):\n",
    "        I1 = Input(shape=(8,)) \n",
    "        h1 = Dense(24, activation='tanh')(I1)\n",
    "        h1 = Dense(24, activation='tanh')(h1)\n",
    "        h1 = Dense(16, activation='tanh')(h1)\n",
    "        h1 = Dense(16, activation='tanh')(h1)\n",
    "        Output = Dense(6, activation='softmax')(h1)\n",
    "        vanillamodel = Model(I1, Output)\n",
    "        vanillamodel.load_weights(wgtsdir+'/vanillamodel_'+str(j)+'.h5') ###path in github repo\n",
    "        datapredicted = vanillamodel.predict(scaler.transform(TotalDataset))#a1r\n",
    "        datapredicted_results_vanilla_ensemble[j,...] = datapredicted\n",
    "        \n",
    "    tmpMean = np.mean(datapredicted_results_vanilla_ensemble,0)\n",
    "    tmpSoftmax = special.softmax(tmpMean,1)\n",
    "    datapredicted_results_Histo[i,:,:][~missingdataindex] = np.argmax(tmpSoftmax, 1)\n",
    "\n",
    "#directory to save the predicted can be changed based on the model and scenarios   \n",
    "np.save(str(model_dir) + f\"{model_name}-Historical-{listyears[0]}01-{listyears[-1]}12-EnsembleMLP.npy\",datapredicted_results_Histo)\n",
    "    "
   ]
  },
  {
   "cell_type": "code",
   "execution_count": null,
   "metadata": {},
   "outputs": [],
   "source": [
    "datapredicted_results_Histo.shape"
   ]
  },
  {
   "cell_type": "code",
   "execution_count": null,
   "metadata": {},
   "outputs": [],
   "source": [
    "plt.figure(figsize=(20,10))\n",
    "\n",
    "plt.subplot(1,2,1)\n",
    "plt.imshow(datapredicted_results_Histo[-1,:,:][::-1,:], cmap=mycmap)\n",
    "plt.colorbar(fraction=0.024, pad=0.04)\n",
    "plt.title(f\"{model_name} regimes {listyears[-2]}-{listyears[-1]} predicted by the Ensemble NN Historical\")\n",
    "\n",
    "plt.subplot(1,2,2)\n",
    "plt.imshow(ecco_label[::-1,:], cmap=mycmap)\n",
    "plt.colorbar(fraction=0.024, pad=0.04)\n",
    "plt.title(f\"ECCO regimes {listyears[-2]}-{listyears[-1]} Historical\")"
   ]
  },
  {
   "cell_type": "markdown",
   "metadata": {},
   "source": [
    "# Save the images for the 20 years chunks"
   ]
  },
  {
   "cell_type": "code",
   "execution_count": null,
   "metadata": {},
   "outputs": [],
   "source": [
    "for i in range(7):\n",
    "    plt.figure(figsize=(20,10))\n",
    "    #plt.subplot(1,2,1)\n",
    "    plt.imshow(datapredicted_results_Histo[i,:,:][::-1,:], cmap=mycmap)\n",
    "    plt.colorbar(fraction=0.024, pad=0.04)\n",
    "    plt.title(f\"{model_name}-Historical \"+str(listyears[2*i])+' '+str(listyears[2*i+1]), fontsize=50)\n",
    "    plt.savefig(imgdirHisto+\"/\"+str(listyears[2*i])+str(listyears[2*i+1])+'.png')"
   ]
  },
  {
   "cell_type": "markdown",
   "metadata": {},
   "source": [
    "## create a gif"
   ]
  },
  {
   "cell_type": "code",
   "execution_count": null,
   "metadata": {},
   "outputs": [],
   "source": [
    "import os\n",
    "import imageio\n",
    "\n",
    "png_dir = imgdirHisto+\"/\"\n",
    "images = []\n",
    "for file_name in sorted(os.listdir(png_dir)):\n",
    "    if file_name.endswith('.png'):\n",
    "        file_path = os.path.join(png_dir, file_name)\n",
    "        images.append(imageio.imread(file_path))\n",
    "imageio.mimsave(png_dir+ f\"{model_name}-png_Historical.gif\", images, fps=1)"
   ]
  },
  {
   "cell_type": "code",
   "execution_count": null,
   "metadata": {},
   "outputs": [],
   "source": []
  },
  {
   "cell_type": "markdown",
   "metadata": {},
   "source": [
    "## Running 1%CO2"
   ]
  },
  {
   "cell_type": "markdown",
   "metadata": {},
   "source": [
    "## 1%CO2 Data for zos,tauuo, and tauvo"
   ]
  },
  {
   "cell_type": "code",
   "execution_count": null,
   "metadata": {},
   "outputs": [],
   "source": [
    "xr_zos_1prctCO2 = set_dict_zos[oneCO2]\n",
    "xr_tauuo_1prctCO2 = set_dict_tauuo[oneCO2]\n",
    "xr_tauvo_1prctCO2 = set_dict_tauvo[oneCO2]"
   ]
  },
  {
   "cell_type": "code",
   "execution_count": null,
   "metadata": {},
   "outputs": [],
   "source": [
    "#xr_tauuo_1prctCO2"
   ]
  },
  {
   "cell_type": "code",
   "execution_count": null,
   "metadata": {},
   "outputs": [],
   "source": [
    "xr_zos_1prctCO2.zos.time.to_dataframe()"
   ]
  },
  {
   "cell_type": "code",
   "execution_count": null,
   "metadata": {},
   "outputs": [],
   "source": [
    "#for 1%CO2experiments\n",
    "listyears1prct = list_of_years(end_year= 150, duration=140, chunk_years=20)\n",
    "print(listyears1prct)"
   ]
  },
  {
   "cell_type": "markdown",
   "metadata": {},
   "source": [
    "## Making some  plots"
   ]
  },
  {
   "cell_type": "code",
   "execution_count": null,
   "metadata": {},
   "outputs": [],
   "source": [
    "#sel(time=slice(\"1992\", \"2011\"), the last 20 year chunck might differ based on the model experiments\n",
    "plt.figure(figsize=(15,15))\n",
    "\n",
    "plt.subplot(2,2,1)\n",
    "xr_zos_1prctCO2.zos.sel(time=slice(listyears1prct[-2], listyears1prct[-1])).mean(axis=1).plot()\n",
    "\n",
    "plt.subplot(2,2,2)\n",
    "xr_Ofx.deptho[:,:,:].max(axis=0).plot()\n",
    "\n",
    "plt.subplot(2,2,3)\n",
    "xr_tauuo_1prctCO2.tauuo.sel(time=slice(listyears1prct[-2], listyears1prct[-1])).mean(axis=1).plot()\n",
    "\n",
    "plt.subplot(2,2,4)\n",
    "xr_tauvo_1prctCO2.tauvo.sel(time=slice(listyears1prct[-2], listyears1prct[-1])).mean(axis=1).plot()"
   ]
  },
  {
   "cell_type": "code",
   "execution_count": null,
   "metadata": {},
   "outputs": [],
   "source": []
  },
  {
   "cell_type": "markdown",
   "metadata": {},
   "source": [
    "## Predicting 1prctCO2..."
   ]
  },
  {
   "cell_type": "code",
   "execution_count": null,
   "metadata": {},
   "outputs": [],
   "source": [
    "datapredicted_results_1prctCO2 = np.nan * np.zeros((7,)+Ofx.shape)\n",
    "\n",
    "for i in range(7):\n",
    "    \n",
    "    print(listyears1prct[2*i]+listyears1prct[2*i+1])\n",
    "    SSH20Mean = xr_zos_1prctCO2.zos.isel(member_id=0).sel(time=slice(listyears1prct[2*i], listyears1prct[2*i+1])).mean(axis=0).values\n",
    "    TauUOMean = xr_tauuo_1prctCO2.tauuo.isel(member_id=0).sel(time=slice(listyears1prct[2*i], listyears1prct[2*i+1])).mean(axis=0).values\n",
    "    TauVOMean = xr_tauvo_1prctCO2.tauvo.isel(member_id=0).sel(time=slice(listyears1prct[2*i], listyears1prct[2*i+1])).mean(axis=0).values\n",
    "\n",
    "    ####\n",
    "    print('Calculate grads')\n",
    "    gradSSH_y, gradSSH_x = grad(SSH20Mean,latY,lonX)\n",
    "    gradOfx_y, gradOfx_x = grad(Ofx,latY,lonX)\n",
    "    gradUx_y, gradUx_x = grad(TauUOMean,latY,lonX)\n",
    "    gradUy_y, gradUy_x = grad(TauVOMean,latY,lonX)\n",
    "    ####\n",
    "    print('Calculate CurlTau')\n",
    "    curlTau =(gradUy_x-gradUx_y)/1032\n",
    "    \n",
    "    ####\n",
    "    print('Calculate missindx')\n",
    "    missingdataindex = np.isnan(curlTau*SSH20Mean*\n",
    "                                   gradSSH_x*gradSSH_y*\n",
    "                                   Ofx*gradOfx_x*\n",
    "                                   gradOfx_y*f)\n",
    "    ####\n",
    "    print('Creating TotalDataset')\n",
    "    TotalDataset = np.stack((curlTau[~missingdataindex],\n",
    "                         SSH20Mean[~missingdataindex],\n",
    "                         gradSSH_x[~missingdataindex],\n",
    "                         gradSSH_y[~missingdataindex],\n",
    "                         Ofx.values[~missingdataindex],\n",
    "                         gradOfx_x[~missingdataindex],\n",
    "                         gradOfx_y[~missingdataindex],\n",
    "                         f[~missingdataindex]),1)\n",
    "    ####\n",
    "    print('NN pred')\n",
    "    \n",
    "    datapredicted_results_vanilla_ensemble = np.nan * np.zeros((50,TotalDataset.shape[0],6))\n",
    "\n",
    "    for j in range(50):\n",
    "        I1 = Input(shape=(8,)) \n",
    "        h1 = Dense(24, activation='tanh')(I1)\n",
    "        h1 = Dense(24, activation='tanh')(h1)\n",
    "        h1 = Dense(16, activation='tanh')(h1)\n",
    "        h1 = Dense(16, activation='tanh')(h1)\n",
    "        Output = Dense(6, activation='softmax')(h1)\n",
    "        vanillamodel = Model(I1, Output)\n",
    "        vanillamodel.load_weights(wgtsdir+'/vanillamodel_'+str(j)+'.h5') ###path in github repo\n",
    "        datapredicted = vanillamodel.predict(scaler.transform(TotalDataset))#a1r\n",
    "        datapredicted_results_vanilla_ensemble[j,...] = datapredicted\n",
    "        \n",
    "    tmpMean = np.mean(datapredicted_results_vanilla_ensemble,0)\n",
    "    tmpSoftmax = special.softmax(tmpMean,1)\n",
    "    datapredicted_results_1prctCO2[i,:,:][~missingdataindex] = np.argmax(tmpSoftmax, 1)\n",
    "\n",
    "    \n",
    "np.save(model_dir + f\"{model_name}-1prctCO2-{listyears1prct[0]}01-{listyears1prct[-1]}12-EnsembleMLP.npy\",datapredicted_results_1prctCO2)\n"
   ]
  },
  {
   "cell_type": "code",
   "execution_count": null,
   "metadata": {},
   "outputs": [],
   "source": [
    "plt.figure(figsize=(20,10))\n",
    "\n",
    "plt.subplot(1,2,1)\n",
    "plt.imshow(datapredicted_results_1prctCO2[-1,:,:][::-1,:], cmap=mycmap)\n",
    "plt.colorbar(fraction=0.024, pad=0.04)\n",
    "plt.title(f\"{model_name} regimes {listyears1prct[-2]}-{listyears1prct[-1]} predicted by the Ensemble NN 1prctCO2\")\n",
    "\n",
    "plt.subplot(1,2,2)\n",
    "plt.imshow(ecco_label[::-1,:], cmap=mycmap)\n",
    "plt.colorbar(fraction=0.024, pad=0.04)\n",
    "plt.title(f\"ECCO regimes {listyears1prct[-2]}-{listyears1prct[-1]} 1prctCO2\")"
   ]
  },
  {
   "cell_type": "markdown",
   "metadata": {},
   "source": [
    "# Save the images for the 20 years chunks\n",
    "change the saved directory if necessary for the output files"
   ]
  },
  {
   "cell_type": "code",
   "execution_count": null,
   "metadata": {},
   "outputs": [],
   "source": [
    "for i in range(7):\n",
    "    plt.figure(figsize=(20,10))\n",
    "    #plt.subplot(1,2,1)\n",
    "    plt.imshow(datapredicted_results_1prctCO2[i,:,:][::-1,:], cmap=mycmap)\n",
    "    plt.colorbar(fraction=0.024, pad=0.04)\n",
    "    plt.title(f'{model_name}-1prctCO2 '+str(listyears1prct[2*i])+' '+str(listyears1prct[2*i+1]), fontsize=50)\n",
    "    plt.savefig(imgdir1prct +'/'+str(listyears1prct[2*i])+str(listyears1prct[2*i+1])+'.png')"
   ]
  },
  {
   "cell_type": "markdown",
   "metadata": {},
   "source": [
    "## create a gif"
   ]
  },
  {
   "cell_type": "code",
   "execution_count": null,
   "metadata": {},
   "outputs": [],
   "source": [
    "import os\n",
    "import imageio\n",
    "\n",
    "png_dir = imgdir1prct +'/'\n",
    "images = []\n",
    "for file_name in sorted(os.listdir(png_dir)):\n",
    "    if file_name.endswith('.png'):\n",
    "        file_path = os.path.join(png_dir, file_name)\n",
    "        images.append(imageio.imread(file_path))\n",
    "imageio.mimsave(png_dir + f\"{model_name}-png_1prctCO2.gif\", images, fps=1)"
   ]
  },
  {
   "cell_type": "markdown",
   "metadata": {},
   "source": [
    "## Running abrupt4xCO2"
   ]
  },
  {
   "cell_type": "markdown",
   "metadata": {},
   "source": [
    "## abrupt-4xCO2 Data for zos,tauuo, and tauvo\n",
    "the dictionary keys should be changed for other models and scenarios\n",
    "\n"
   ]
  },
  {
   "cell_type": "code",
   "execution_count": null,
   "metadata": {},
   "outputs": [],
   "source": [
    "xr_zos_abrupt4prctCO2 = set_dict_zos[abrupt]\n",
    "xr_tauuo_abrupt4prctCO2 = set_dict_tauuo[abrupt]\n",
    "xr_tauvo_abrupt4prctCO2 = set_dict_tauvo[abrupt]"
   ]
  },
  {
   "cell_type": "code",
   "execution_count": null,
   "metadata": {},
   "outputs": [],
   "source": [
    "#xr_tauvo_abrupt4prctCO2"
   ]
  },
  {
   "cell_type": "code",
   "execution_count": null,
   "metadata": {},
   "outputs": [],
   "source": [
    "xr_zos_abrupt4prctCO2.zos.time.to_dataframe()"
   ]
  },
  {
   "cell_type": "code",
   "execution_count": null,
   "metadata": {},
   "outputs": [],
   "source": [
    "#since abrupt 4xCO2 has the included 1%CCO2 years included, we will use the same year\n",
    "#this is specific to this project\n",
    "listyears4abruptprct = list_of_years(end_year= 150, duration=140, chunk_years=20)\n",
    "print(listyears4abruptprct)"
   ]
  },
  {
   "cell_type": "markdown",
   "metadata": {},
   "source": [
    "## Making some plots"
   ]
  },
  {
   "cell_type": "code",
   "execution_count": null,
   "metadata": {},
   "outputs": [],
   "source": [
    "#sel(time=slice(\"1992\", \"2011\")) I removed the date slice because it was gving me an empty plot. This is specific to 1prctCO2\n",
    "plt.figure(figsize=(15,15))\n",
    "\n",
    "plt.subplot(2,2,1)\n",
    "xr_zos_abrupt4prctCO2.zos.sel(time=slice(listyears4abruptprct[-2], listyears4abruptprct[-1])).mean(axis=1).plot()\n",
    "\n",
    "plt.subplot(2,2,2)\n",
    "xr_Ofx.deptho[:,:,:].max(axis=0).plot()#Specific to CESM2 model deptho\n",
    "\n",
    "plt.subplot(2,2,3)\n",
    "xr_tauuo_abrupt4prctCO2.tauuo.sel(time=slice(listyears4abruptprct[-2], listyears4abruptprct[-1])).mean(axis=1).plot()\n",
    "\n",
    "plt.subplot(2,2,4)\n",
    "xr_tauvo_abrupt4prctCO2.tauvo.sel(time=slice(listyears4abruptprct[-2], listyears4abruptprct[-1])).mean(axis=1).plot()"
   ]
  },
  {
   "cell_type": "code",
   "execution_count": null,
   "metadata": {},
   "outputs": [],
   "source": []
  },
  {
   "cell_type": "markdown",
   "metadata": {},
   "source": [
    "## Predicting abrupt-4xCO2..."
   ]
  },
  {
   "cell_type": "code",
   "execution_count": null,
   "metadata": {},
   "outputs": [],
   "source": [
    "datapredicted_results_abrupt4CO2 = np.nan * np.zeros((7,)+Ofx.shape)\n",
    "\n",
    "for i in range(7):\n",
    "    \n",
    "    print(listyears4abruptprct[2*i]+listyears4abruptprct[2*i+1])\n",
    "    SSH20Mean = xr_zos_abrupt4prctCO2.zos.isel(member_id=0).sel(time=slice(listyears4abruptprct[2*i], listyears4abruptprct[2*i+1])).mean(axis=0).values\n",
    "    TauUOMean = xr_tauuo_abrupt4prctCO2.tauuo.isel(member_id=0).sel(time=slice(listyears4abruptprct[2*i], listyears4abruptprct[2*i+1])).mean(axis=0).values\n",
    "    TauVOMean = xr_tauvo_abrupt4prctCO2.tauvo.isel(member_id=0).sel(time=slice(listyears4abruptprct[2*i], listyears4abruptprct[2*i+1])).mean(axis=0).values\n",
    "\n",
    "    ####\n",
    "    print('Calculate grads')\n",
    "    gradSSH_y, gradSSH_x = grad(SSH20Mean,latY,lonX)\n",
    "    gradOfx_y, gradOfx_x = grad(Ofx,latY,lonX)\n",
    "    gradUx_y, gradUx_x = grad(TauUOMean,latY,lonX)\n",
    "    gradUy_y, gradUy_x = grad(TauVOMean,latY,lonX)\n",
    "    ####\n",
    "    print('Calculate CurlTau')\n",
    "    curlTau =(gradUy_x-gradUx_y)/1032\n",
    "    \n",
    "    ####\n",
    "    print('Calculate missindx')\n",
    "    missingdataindex = np.isnan(curlTau*SSH20Mean*\n",
    "                                   gradSSH_x*gradSSH_y*\n",
    "                                   Ofx*gradOfx_x*\n",
    "                                   gradOfx_y*f)\n",
    "    ####\n",
    "    print('Creating TotalDataset')\n",
    "    TotalDataset = np.stack((curlTau[~missingdataindex],\n",
    "                         SSH20Mean[~missingdataindex],\n",
    "                         gradSSH_x[~missingdataindex],\n",
    "                         gradSSH_y[~missingdataindex],\n",
    "                         Ofx.values[~missingdataindex],\n",
    "                         gradOfx_x[~missingdataindex],\n",
    "                         gradOfx_y[~missingdataindex],\n",
    "                         f[~missingdataindex]),1)\n",
    "    ####\n",
    "    print('NN pred')\n",
    "    \n",
    "    datapredicted_results_vanilla_ensemble = np.nan * np.zeros((50,TotalDataset.shape[0],6))\n",
    "\n",
    "    for j in range(50):\n",
    "        I1 = Input(shape=(8,)) \n",
    "        h1 = Dense(24, activation='tanh')(I1)\n",
    "        h1 = Dense(24, activation='tanh')(h1)\n",
    "        h1 = Dense(16, activation='tanh')(h1)\n",
    "        h1 = Dense(16, activation='tanh')(h1)\n",
    "        Output = Dense(6, activation='softmax')(h1)\n",
    "        vanillamodel = Model(I1, Output)\n",
    "        vanillamodel.load_weights(wgtsdir+'/vanillamodel_'+str(j)+'.h5') ###path in github repo\n",
    "        datapredicted = vanillamodel.predict(scaler.transform(TotalDataset))#a1r\n",
    "        datapredicted_results_vanilla_ensemble[j,...] = datapredicted\n",
    "        \n",
    "    tmpMean = np.mean(datapredicted_results_vanilla_ensemble,0)\n",
    "    tmpSoftmax = special.softmax(tmpMean,1)\n",
    "    datapredicted_results_abrupt4CO2[i,:,:][~missingdataindex] = np.argmax(tmpSoftmax, 1)\n",
    "\n",
    "    \n",
    "np.save( model_dir + f\"{model_dir}-abrupt4CO2-{listyears4abruptprct[0]}01-{listyears4abruptprct[-1]}12-EnsembleMLP.npy\",datapredicted_results_abrupt4CO2)\n",
    "\n",
    "    "
   ]
  },
  {
   "cell_type": "code",
   "execution_count": null,
   "metadata": {},
   "outputs": [],
   "source": [
    "plt.figure(figsize=(20,10))\n",
    "\n",
    "plt.subplot(1,2,1)\n",
    "plt.imshow(datapredicted_results_abrupt4CO2[-1,:,:][::-1,:], cmap=mycmap)\n",
    "plt.colorbar(fraction=0.024, pad=0.04)\n",
    "plt.title(f\"{model_name} regimes {listyears4abruptprct[-2]}-{listyears4abruptprct[-1]} predicted by the Ensemble NN abrupt4CO2\")\n",
    "\n",
    "plt.subplot(1,2,2)\n",
    "plt.imshow(ecco_label[::-1,:], cmap=mycmap)\n",
    "plt.colorbar(fraction=0.024, pad=0.04)\n",
    "plt.title(f\"ECCO regimes {listyears4abruptprct[-2]}-{listyears4abruptprct[-1]} abrupt4CO2\")"
   ]
  },
  {
   "cell_type": "markdown",
   "metadata": {},
   "source": [
    "# Save the images for the 20 years chunks"
   ]
  },
  {
   "cell_type": "code",
   "execution_count": null,
   "metadata": {},
   "outputs": [],
   "source": [
    "for i in range(7):\n",
    "    plt.figure(figsize=(20,10))\n",
    "    #plt.subplot(1,2,1)\n",
    "    plt.imshow(datapredicted_results_abrupt4CO2[i,:,:][::-1,:], cmap=mycmap)\n",
    "    plt.colorbar(fraction=0.024, pad=0.04)\n",
    "    plt.title(f\"{model_name}-abrupt4CO2 \"\"+str(listyears4abruptprct[2*i])+' '+str(listyears4abruptprct[2*i+1]), fontsize=50)\n",
    "    plt.savefig(imgdirabrupt4Co2+'/'+str(listyears[2*i])+str(listyears[2*i+1])+'.png')"
   ]
  },
  {
   "cell_type": "markdown",
   "metadata": {},
   "source": [
    "## create a gif"
   ]
  },
  {
   "cell_type": "code",
   "execution_count": null,
   "metadata": {},
   "outputs": [],
   "source": [
    "import os\n",
    "import imageio\n",
    "\n",
    "png_dir = imgdirabrupt4Co2+'/'\n",
    "images = []\n",
    "for file_name in sorted(os.listdir(png_dir)):\n",
    "    if file_name.endswith('.png'):\n",
    "        file_path = os.path.join(png_dir, file_name)\n",
    "        images.append(imageio.imread(file_path))\n",
    "imageio.mimsave(png_dir + f\"png_abrupt4prctCO2_{model_name}.gif\", images, fps=1)"
   ]
  },
  {
   "cell_type": "code",
   "execution_count": null,
   "metadata": {},
   "outputs": [],
   "source": []
  }
 ],
 "metadata": {
  "kernelspec": {
   "display_name": "Python [conda env:enso_ml]",
   "language": "python",
   "name": "conda-env-enso_ml-py"
  },
  "language_info": {
   "codemirror_mode": {
    "name": "ipython",
    "version": 3
   },
   "file_extension": ".py",
   "mimetype": "text/x-python",
   "name": "python",
   "nbconvert_exporter": "python",
   "pygments_lexer": "ipython3",
   "version": "3.9.4"
  }
 },
 "nbformat": 4,
 "nbformat_minor": 4
}
